{
  "nbformat": 4,
  "nbformat_minor": 0,
  "metadata": {
    "colab": {
      "name": "Term deposit.ipynb",
      "provenance": [],
      "collapsed_sections": [
        "T9BsUtq-EM6e",
        "JKRWeiMCIXff",
        "4AUfWLj4ZUEj",
        "6K1MS864jV6C",
        "c5TjJT5En-el"
      ],
      "include_colab_link": true
    },
    "kernelspec": {
      "name": "python3",
      "display_name": "Python 3"
    }
  },
  "cells": [
    {
      "cell_type": "markdown",
      "metadata": {
        "id": "view-in-github",
        "colab_type": "text"
      },
      "source": [
        "<a href=\"https://colab.research.google.com/github/suvam001/Pyspark/blob/main/Term_deposit.ipynb\" target=\"_parent\"><img src=\"https://colab.research.google.com/assets/colab-badge.svg\" alt=\"Open In Colab\"/></a>"
      ]
    },
    {
      "cell_type": "markdown",
      "metadata": {
        "id": "r2n1WRhInOV4"
      },
      "source": [
        "#**Bank Marketing Campaign- Predicting Term Deposit**"
      ]
    },
    {
      "cell_type": "markdown",
      "metadata": {
        "id": "BQxaKP3-ugUs"
      },
      "source": [
        "#**01 Install Spark**"
      ]
    },
    {
      "cell_type": "code",
      "metadata": {
        "id": "9aG7A8TjulYO"
      },
      "source": [
        "!apt-get update > /dev/null\n",
        "!apt-get install openjdk-8-jdk-headless -qq > /dev/null\n",
        "#!wget -q http://apache.osuosl.org/spark/spark-2.2.2/spark-2.2.2-bin-hadoop2.7.tgz\n",
        "#!wget -q http://apache.osuosl.org/spark/spark-2.4.0/spark-2.4.0-bin-hadoop2.7.tgz\n",
        "#!wget -q http://apache.osuosl.org/spark/spark-2.4.4/spark-2.4.4-bin-hadoop2.7.tgz\n",
        "#!wget -q http://apache.osuosl.org/spark/spark-2.4.5/spark-2.4.5-bin-hadoop2.7.tgz\n",
        "#!wget -q http://apache.osuosl.org/spark/spark-3.0.1/spark-3.0.1-bin-hadoop3.2.tgz\n",
        "!wget -q http://apache.osuosl.org/spark/spark-3.1.2/spark-3.1.2-bin-hadoop3.2.tgz\n",
        "#\n",
        "# if the current version of Spark is not used, there may be errors\n",
        "# check here for current versions http://apache.osuosl.org/spark\n",
        "#\n",
        "#!tar xf spark-2.4.0-bin-hadoop2.7.tgz\n",
        "#!tar xf spark-2.4.4-bin-hadoop2.7.tgz\n",
        "#!tar xf spark-2.4.5-bin-hadoop2.7.tgz\n",
        "#!tar xf spark-3.0.1-bin-hadoop3.2.tgz\n",
        "!tar xf spark-3.1.2-bin-hadoop3.2.tgz\n",
        "!pip install -q findspark"
      ],
      "execution_count": null,
      "outputs": []
    },
    {
      "cell_type": "code",
      "metadata": {
        "id": "FejPN_KpvGke"
      },
      "source": [
        "import os\n",
        "os.environ[\"JAVA_HOME\"] = \"/usr/lib/jvm/java-8-openjdk-amd64\"\n",
        "#os.environ[\"SPARK_HOME\"] = \"/content/spark-2.4.0-bin-hadoop2.7\"\n",
        "#os.environ[\"SPARK_HOME\"] = \"/content/spark-2.4.4-bin-hadoop2.7\"\n",
        "#os.environ[\"SPARK_HOME\"] = \"/content/spark-2.4.5-bin-hadoop2.7\"\n",
        "#os.environ[\"SPARK_HOME\"] = \"/content/spark-3.0.1-bin-hadoop3.2\"\n",
        "os.environ[\"SPARK_HOME\"] = \"/content/spark-3.1.2-bin-hadoop3.2\""
      ],
      "execution_count": null,
      "outputs": []
    },
    {
      "cell_type": "code",
      "metadata": {
        "id": "7okdoVFIvQJm",
        "colab": {
          "base_uri": "https://localhost:8080/",
          "height": 195
        },
        "outputId": "af6c3b0c-ee9d-4449-f2eb-27f09808c0a0"
      },
      "source": [
        "import findspark\n",
        "findspark.init()\n",
        "from pyspark.sql import SparkSession\n",
        "spark = SparkSession.builder.master(\"local[*]\").getOrCreate()\n",
        "sc = spark.sparkContext\n",
        "sc"
      ],
      "execution_count": null,
      "outputs": [
        {
          "output_type": "execute_result",
          "data": {
            "text/html": [
              "\n",
              "        <div>\n",
              "            <p><b>SparkContext</b></p>\n",
              "\n",
              "            <p><a href=\"http://8651f34b2da4:4040\">Spark UI</a></p>\n",
              "\n",
              "            <dl>\n",
              "              <dt>Version</dt>\n",
              "                <dd><code>v3.1.2</code></dd>\n",
              "              <dt>Master</dt>\n",
              "                <dd><code>local[*]</code></dd>\n",
              "              <dt>AppName</dt>\n",
              "                <dd><code>pyspark-shell</code></dd>\n",
              "            </dl>\n",
              "        </div>\n",
              "        "
            ],
            "text/plain": [
              "<SparkContext master=local[*] appName=pyspark-shell>"
            ]
          },
          "metadata": {
            "tags": []
          },
          "execution_count": 15
        }
      ]
    },
    {
      "cell_type": "markdown",
      "metadata": {
        "id": "bAyLqUDFyjjQ"
      },
      "source": [
        "# **02 Load Data**"
      ]
    },
    {
      "cell_type": "code",
      "metadata": {
        "id": "k9Nj7MJDrPWm",
        "colab": {
          "base_uri": "https://localhost:8080/"
        },
        "outputId": "3c17ce5b-65e8-4aee-a813-6ae58fc2c760"
      },
      "source": [
        "!ls spark-3.0.1-bin-hadoop3.2\n"
      ],
      "execution_count": null,
      "outputs": [
        {
          "output_type": "stream",
          "text": [
            "ls: cannot access 'spark-3.0.1-bin-hadoop3.2': No such file or directory\n"
          ],
          "name": "stdout"
        }
      ]
    },
    {
      "cell_type": "code",
      "metadata": {
        "id": "tqcZoCSe9QjY",
        "colab": {
          "base_uri": "https://localhost:8080/"
        },
        "outputId": "5edbabbf-6c2c-43bc-e8b2-f0bf68e9d346"
      },
      "source": [
        "data_file = \"Bank_train.csv\"\n",
        "raw_data = sc.textFile(data_file)\n",
        "\n",
        "print (\"Train data size is \", raw_data.count())"
      ],
      "execution_count": null,
      "outputs": [
        {
          "output_type": "stream",
          "text": [
            "Train data size is  41188\n"
          ],
          "name": "stdout"
        }
      ]
    },
    {
      "cell_type": "code",
      "metadata": {
        "id": "YaoEKBmS9tT0",
        "colab": {
          "base_uri": "https://localhost:8080/"
        },
        "outputId": "3624d70d-2f67-4baa-f34e-69898427ae65"
      },
      "source": [
        "test_data_file = \"Bank_test.csv\"\n",
        "\n",
        "test_raw_data = sc.textFile(test_data_file)\n",
        "\n",
        "print (\"Test data size is \", test_raw_data.count())"
      ],
      "execution_count": null,
      "outputs": [
        {
          "output_type": "stream",
          "text": [
            "Test data size is  4119\n"
          ],
          "name": "stdout"
        }
      ]
    },
    {
      "cell_type": "markdown",
      "metadata": {
        "id": "M_VyHe_MzoQy"
      },
      "source": [
        "#**03 Exploratory Data Analysis -  MLlib Statistics** <br>\n"
      ]
    },
    {
      "cell_type": "code",
      "metadata": {
        "id": "FC7d3Qdpzw8J"
      },
      "source": [
        "#sc = spark.sparkContext\n",
        "datafile = \"Bank.csv\"\n",
        "raw_data = sc.textFile(datafile)"
      ],
      "execution_count": null,
      "outputs": []
    },
    {
      "cell_type": "code",
      "metadata": {
        "id": "Cnt7qIYs0cVY",
        "colab": {
          "base_uri": "https://localhost:8080/"
        },
        "outputId": "7a800ced-2c23-4d8a-c2fb-2d7480ebdd5d"
      },
      "source": [
        "raw_data.take(6)"
      ],
      "execution_count": null,
      "outputs": [
        {
          "output_type": "execute_result",
          "data": {
            "text/plain": [
              "['0.48148148148148145,0.05307035380235868,0.0,0.0,0.9375,0.6987529228370946,0.6025104602510458,0.9573792790750397,0.8598484848484844,housemaid,married,basic.4y,no,no,no,telephone,may,mon,nonexistent,no,cont',\n",
              " '0.4938271604938272,0.03029686864579097,0.0,0.0,0.9375,0.6987529228370946,0.6025104602510458,0.9573792790750397,0.8598484848484844,services,married,high.school,unknown,no,no,telephone,may,mon,nonexistent,no,cont',\n",
              " '0.24691358024691357,0.045953639690931275,0.0,0.0,0.9375,0.6987529228370946,0.6025104602510458,0.9573792790750397,0.8598484848484844,services,married,high.school,no,yes,no,telephone,may,mon,nonexistent,no,cont',\n",
              " '0.2839506172839506,0.030703538023586822,0.0,0.0,0.9375,0.6987529228370946,0.6025104602510458,0.9573792790750397,0.8598484848484844,admin.,married,basic.6y,no,no,no,telephone,may,mon,nonexistent,no,cont',\n",
              " '0.48148148148148145,0.06242374949166328,0.0,0.0,0.9375,0.6987529228370946,0.6025104602510458,0.9573792790750397,0.8598484848484844,services,married,high.school,no,no,yes,telephone,may,mon,nonexistent,no,cont',\n",
              " '0.34567901234567905,0.04026026840178935,0.0,0.0,0.9375,0.6987529228370946,0.6025104602510458,0.9573792790750397,0.8598484848484844,services,married,basic.9y,unknown,no,no,telephone,may,mon,nonexistent,no,cont']"
            ]
          },
          "metadata": {
            "tags": []
          },
          "execution_count": 138
        }
      ]
    },
    {
      "cell_type": "markdown",
      "metadata": {
        "id": "t1gLsLYQoEVh"
      },
      "source": [
        "**An RDD of dense vectors**\n",
        "\n",
        "Categorical variables are removed"
      ]
    },
    {
      "cell_type": "code",
      "metadata": {
        "id": "N80lBmHc0AV-",
        "colab": {
          "base_uri": "https://localhost:8080/"
        },
        "outputId": "c54831dc-e181-4142-a4a0-8d5cde76c307"
      },
      "source": [
        "import numpy as np\n",
        "\n",
        "def parse_interaction(line):\n",
        "    line_split = line.split(\",\")\n",
        "    # keep just numeric and logical values\n",
        "    symbolic_indexes = [9,10,11,12,13,14,15,16,17,18,19,20]\n",
        "    clean_line_split = [item for i,item in enumerate(line_split) if i not in symbolic_indexes]\n",
        "    return np.array([float(x) for x in clean_line_split])\n",
        "\n",
        "vector_data = raw_data.map(parse_interaction)\n",
        "vector_data.take(2)"
      ],
      "execution_count": null,
      "outputs": [
        {
          "output_type": "execute_result",
          "data": {
            "text/plain": [
              "[array([0.48148148, 0.05307035, 0.        , 0.        , 0.9375    ,\n",
              "        0.69875292, 0.60251046, 0.95737928, 0.85984848]),\n",
              " array([0.49382716, 0.03029687, 0.        , 0.        , 0.9375    ,\n",
              "        0.69875292, 0.60251046, 0.95737928, 0.85984848])]"
            ]
          },
          "metadata": {
            "tags": []
          },
          "execution_count": 139
        }
      ]
    },
    {
      "cell_type": "markdown",
      "metadata": {
        "id": "vVb9bLZsouRT"
      },
      "source": [
        "###**Summary Statistics**"
      ]
    },
    {
      "cell_type": "code",
      "metadata": {
        "id": "wl22JEuU054o"
      },
      "source": [
        "from pyspark.mllib.stat import Statistics \n",
        "from math import sqrt \n",
        "\n",
        "# Compute column summary statistics.\n",
        "summary = Statistics.colStats(vector_data)\n",
        "\n"
      ],
      "execution_count": null,
      "outputs": []
    },
    {
      "cell_type": "code",
      "metadata": {
        "colab": {
          "base_uri": "https://localhost:8080/"
        },
        "id": "AJwMeq7SUITj",
        "outputId": "aa516ece-5eaf-4871-bdc8-4966b751f636"
      },
      "source": [
        "print (\"Campaign:\")\n",
        "print (\" Mean: \", round(summary.mean()[2],3))\n",
        "print (\" St. deviation: \", round(sqrt(summary.variance()[2]),3))\n",
        "print (\" Max value: \", round(summary.max()[2],3))\n",
        "print (\" Min value: \", round(summary.min()[2],3))\n",
        "print (\" Total value count: \", summary.count())\n",
        "print (\" Number of non-zero values: \", summary.numNonzeros()[2])"
      ],
      "execution_count": null,
      "outputs": [
        {
          "output_type": "stream",
          "text": [
            "Campaign:\n",
            " Mean:  0.029\n",
            " St. deviation:  0.05\n",
            " Max value:  1.0\n",
            " Min value:  0.0\n",
            " Total value count:  41188\n",
            " Number of non-zero values:  23546.0\n"
          ],
          "name": "stdout"
        }
      ]
    },
    {
      "cell_type": "code",
      "metadata": {
        "id": "Kw23j4boaCK0",
        "colab": {
          "base_uri": "https://localhost:8080/"
        },
        "outputId": "780ce4d4-a59e-402d-b2b1-3354a1ec1fef"
      },
      "source": [
        "print (\"Previous no of contacts:\")\n",
        "print (\" Mean: \", round(summary.mean()[3],3))\n",
        "print (\" St. deviation: \", round(sqrt(summary.variance()[3]),3))\n",
        "print (\" Max value: \", round(summary.max()[3],3))\n",
        "print (\" Min value: \", round(summary.min()[3],3))\n",
        "print (\" Total value count: \", summary.count())\n",
        "print (\" Number of non-zero values: \", summary.numNonzeros()[3])"
      ],
      "execution_count": null,
      "outputs": [
        {
          "output_type": "stream",
          "text": [
            "Previous no of contacts:\n",
            " Mean:  0.025\n",
            " St. deviation:  0.071\n",
            " Max value:  1.0\n",
            " Min value:  0.0\n",
            " Total value count:  41188\n",
            " Number of non-zero values:  5625.0\n"
          ],
          "name": "stdout"
        }
      ]
    },
    {
      "cell_type": "markdown",
      "metadata": {
        "id": "kJ_SKc2ir_Bd"
      },
      "source": [
        "####**Summary Statistics by label**"
      ]
    },
    {
      "cell_type": "code",
      "metadata": {
        "id": "UxNpY9rD13Iw"
      },
      "source": [
        "def parse_interaction_with_key(line):\n",
        "    line_split = line.split(\",\")\n",
        "    # keep just numeric and logical values\n",
        "    symbolic_indexes = [9,10,11,12,13,14,15,16,17,18,19,20]\n",
        "    clean_line_split = [item for i,item in enumerate(line_split) if i not in symbolic_indexes]\n",
        "    return (line_split[19], np.array([float(x) for x in clean_line_split]))\n"
      ],
      "execution_count": null,
      "outputs": []
    },
    {
      "cell_type": "code",
      "metadata": {
        "id": "4nJ7s5r_UyB8"
      },
      "source": [
        "label_vector_data = raw_data.map(parse_interaction_with_key)"
      ],
      "execution_count": null,
      "outputs": []
    },
    {
      "cell_type": "code",
      "metadata": {
        "id": "ZRRQtZiW1966",
        "colab": {
          "base_uri": "https://localhost:8080/"
        },
        "outputId": "35d42bed-149d-48a0-d779-4e2afce49be4"
      },
      "source": [
        "label_vector_data.take(2)"
      ],
      "execution_count": null,
      "outputs": [
        {
          "output_type": "execute_result",
          "data": {
            "text/plain": [
              "[('no', array([0.48148148, 0.05307035, 0.        , 0.        , 0.9375    ,\n",
              "         0.69875292, 0.60251046, 0.95737928, 0.85984848])),\n",
              " ('no', array([0.49382716, 0.03029687, 0.        , 0.        , 0.9375    ,\n",
              "         0.69875292, 0.60251046, 0.95737928, 0.85984848]))]"
            ]
          },
          "metadata": {
            "tags": []
          },
          "execution_count": 145
        }
      ]
    },
    {
      "cell_type": "code",
      "metadata": {
        "id": "CyhV3nx32UqN"
      },
      "source": [
        "Yes_label_data = label_vector_data.filter(lambda x: x[0]=='yes')"
      ],
      "execution_count": null,
      "outputs": []
    },
    {
      "cell_type": "code",
      "metadata": {
        "colab": {
          "base_uri": "https://localhost:8080/"
        },
        "id": "j8cLp6DIVoJl",
        "outputId": "c6db5fdf-6552-49b0-b5e3-063241a756d0"
      },
      "source": [
        "Yes_label_data.take(2)"
      ],
      "execution_count": null,
      "outputs": [
        {
          "output_type": "execute_result",
          "data": {
            "text/plain": [
              "[('yes', array([0.2962963 , 0.32025214, 0.        , 0.        , 0.9375    ,\n",
              "         0.69875292, 0.60251046, 0.95737928, 0.85984848])),\n",
              " ('yes', array([0.39506173, 0.21187475, 0.        , 0.        , 0.9375    ,\n",
              "         0.69875292, 0.60251046, 0.95737928, 0.85984848]))]"
            ]
          },
          "metadata": {
            "tags": []
          },
          "execution_count": 147
        }
      ]
    },
    {
      "cell_type": "code",
      "metadata": {
        "id": "NgjkKtWu2ZlS"
      },
      "source": [
        "Yes_summary = Statistics.colStats(Yes_label_data.values())\n"
      ],
      "execution_count": null,
      "outputs": []
    },
    {
      "cell_type": "code",
      "metadata": {
        "id": "hXwKf0ki2fiy",
        "colab": {
          "base_uri": "https://localhost:8080/"
        },
        "outputId": "0464c72f-2237-43c5-cd0d-6d958d641717"
      },
      "source": [
        "print (\"Statistics for label: \", \"yes\")\n",
        "print (\" Mean: \", round(Yes_summary.mean()[2],3))\n",
        "print (\" St. deviation: \", round(sqrt(Yes_summary.variance()[2]),3))\n",
        "print (\" Max value: \", round(Yes_summary.max()[2],3))\n",
        "print (\" Min value: \", round(Yes_summary.min()[2],3))\n",
        "print (\" Total value count: \", Yes_summary.count())\n",
        "print (\" Number of non-zero values: \", Yes_summary.numNonzeros()[2])"
      ],
      "execution_count": null,
      "outputs": [
        {
          "output_type": "stream",
          "text": [
            "Statistics for label:  yes\n",
            " Mean:  0.019\n",
            " St. deviation:  0.03\n",
            " Max value:  0.4\n",
            " Min value:  0.0\n",
            " Total value count:  4640\n",
            " Number of non-zero values:  2340.0\n"
          ],
          "name": "stdout"
        }
      ]
    },
    {
      "cell_type": "markdown",
      "metadata": {
        "id": "rTCvBE5VtWqj"
      },
      "source": [
        "####**Summary Statistics by label('0' & '1') using a function**\n"
      ]
    },
    {
      "cell_type": "code",
      "metadata": {
        "id": "U8x9Em884aFs"
      },
      "source": [
        "def summary_by_label(raw_data, label):\n",
        "    label_vector_data = raw_data.map(parse_interaction_with_key).filter(lambda x: x[0]==label)\n",
        "    return Statistics.colStats(label_vector_data.values())"
      ],
      "execution_count": null,
      "outputs": []
    },
    {
      "cell_type": "code",
      "metadata": {
        "id": "Qf-kaN7_4w0v",
        "colab": {
          "base_uri": "https://localhost:8080/"
        },
        "outputId": "9eae0a40-a689-4820-ce53-3f9deecba089"
      },
      "source": [
        "Yes_sum = summary_by_label(raw_data, \"yes\")\n",
        "\n",
        "print (\"Campaign Statistics for label: \", \"yes\")\n",
        "print (\" Mean: \", round(Yes_sum.mean()[2],3))\n",
        "print (\" St. deviation: \", round(sqrt(Yes_sum.variance()[2]),3))\n",
        "print (\" Max value: \", round(Yes_sum.max()[2],3))\n",
        "print (\" Min value: \", round(Yes_sum.min()[2],3))\n",
        "print (\" Total value count: \", Yes_sum.count())\n",
        "print (\" Number of non-zero values: \", Yes_sum.numNonzeros()[2])"
      ],
      "execution_count": null,
      "outputs": [
        {
          "output_type": "stream",
          "text": [
            "Campaign Statistics for label:  yes\n",
            " Mean:  0.019\n",
            " St. deviation:  0.03\n",
            " Max value:  0.4\n",
            " Min value:  0.0\n",
            " Total value count:  4640\n",
            " Number of non-zero values:  2340.0\n"
          ],
          "name": "stdout"
        }
      ]
    },
    {
      "cell_type": "code",
      "metadata": {
        "id": "bafTApt952Pd",
        "colab": {
          "base_uri": "https://localhost:8080/"
        },
        "outputId": "44b08385-96dd-4471-98b8-be54d1c3a001"
      },
      "source": [
        "No_sum = summary_by_label(raw_data, \"no\")\n",
        "\n",
        "print (\"Campaign Statistics for label: \", \"No\")\n",
        "print (\" Mean: \", round(No_sum.mean()[2],3))\n",
        "print (\" St. deviation: \", round(sqrt(No_sum.variance()[2]),3))\n",
        "print (\" Max value: \", round(No_sum.max()[2],3))\n",
        "print (\" Min value: \", round(No_sum.min()[2],3))\n",
        "print (\" Total value count: \", No_sum.count())\n",
        "print (\" Number of non-zero values: \", No_sum.numNonzeros()[2])"
      ],
      "execution_count": null,
      "outputs": [
        {
          "output_type": "stream",
          "text": [
            "Campaign Statistics for label:  No\n",
            " Mean:  0.03\n",
            " St. deviation:  0.052\n",
            " Max value:  1.0\n",
            " Min value:  0.0\n",
            " Total value count:  36548\n",
            " Number of non-zero values:  21206.0\n"
          ],
          "name": "stdout"
        }
      ]
    },
    {
      "cell_type": "code",
      "metadata": {
        "id": "iT3klLs_6qY6"
      },
      "source": [
        "label_list = [\"yes\",\"no\"]"
      ],
      "execution_count": null,
      "outputs": []
    },
    {
      "cell_type": "code",
      "metadata": {
        "id": "ilrTQDVPG8KJ"
      },
      "source": [
        "from time import time"
      ],
      "execution_count": null,
      "outputs": []
    },
    {
      "cell_type": "code",
      "metadata": {
        "id": "OBRtqIAQ7Gbk",
        "colab": {
          "base_uri": "https://localhost:8080/"
        },
        "outputId": "c633f745-0b58-49b4-bd0d-5e0540ba898f"
      },
      "source": [
        "t0 = time()\n",
        "stats_by_label = [(label, summary_by_label(raw_data, label)) for label in label_list]\n",
        "tt = time()-t0\n",
        "print('time taken ',tt, 'seconds')\n",
        "# with CPU time taken  225.09664249420166 seconds\n",
        "# with GPU time taken  194.15603494644165 seconds"
      ],
      "execution_count": null,
      "outputs": [
        {
          "output_type": "stream",
          "text": [
            "time taken  1.5835752487182617 seconds\n"
          ],
          "name": "stdout"
        }
      ]
    },
    {
      "cell_type": "code",
      "metadata": {
        "id": "2CM9zppq8KgU",
        "colab": {
          "base_uri": "https://localhost:8080/"
        },
        "outputId": "777fe5bc-3899-445c-c01a-00a7e7429141"
      },
      "source": [
        "stats_by_label"
      ],
      "execution_count": null,
      "outputs": [
        {
          "output_type": "execute_result",
          "data": {
            "text/plain": [
              "[('yes',\n",
              "  <pyspark.mllib.stat._statistics.MultivariateStatisticalSummary at 0x7f3300c3d550>),\n",
              " ('no',\n",
              "  <pyspark.mllib.stat._statistics.MultivariateStatisticalSummary at 0x7f3300c3d6d0>)]"
            ]
          },
          "metadata": {
            "tags": []
          },
          "execution_count": 156
        }
      ]
    },
    {
      "cell_type": "code",
      "metadata": {
        "id": "fxztw0UqJ7fh"
      },
      "source": [
        "duration_by_label2 = [(stat[0],float(stat[1].mean()[2]), float(sqrt(stat[1].variance()[2])), float(stat[1].min()[2]), float(stat[1].max()[2]), int(stat[1].count())) for stat in stats_by_label]"
      ],
      "execution_count": null,
      "outputs": []
    },
    {
      "cell_type": "code",
      "metadata": {
        "id": "rnOVsJe8KmsP",
        "colab": {
          "base_uri": "https://localhost:8080/"
        },
        "outputId": "48b29ca1-6181-4ce6-eea5-a296e133715b"
      },
      "source": [
        "duration_by_label2"
      ],
      "execution_count": null,
      "outputs": [
        {
          "output_type": "execute_result",
          "data": {
            "text/plain": [
              "[('yes',\n",
              "  0.0191222570532915,\n",
              "  0.030295357336210065,\n",
              "  0.0,\n",
              "  0.39999999999999997,\n",
              "  4640),\n",
              " ('no',\n",
              "  0.029692459231695282,\n",
              "  0.05224433022838142,\n",
              "  0.0,\n",
              "  0.9999999999999999,\n",
              "  36548)]"
            ]
          },
          "metadata": {
            "tags": []
          },
          "execution_count": 158
        }
      ]
    },
    {
      "cell_type": "code",
      "metadata": {
        "id": "vaa58ak0bdN7"
      },
      "source": [
        "duration_by_label2A = [(stat[0],float(stat[1].mean()[3]), float(sqrt(stat[1].variance()[3])), float(stat[1].min()[3]), float(stat[1].max()[3]), int(stat[1].count())) for stat in stats_by_label]"
      ],
      "execution_count": null,
      "outputs": []
    },
    {
      "cell_type": "code",
      "metadata": {
        "colab": {
          "base_uri": "https://localhost:8080/"
        },
        "id": "mzepFB75btnA",
        "outputId": "50400b81-516f-4814-94fd-adff4c702d0c"
      },
      "source": [
        "duration_by_label2A"
      ],
      "execution_count": null,
      "outputs": [
        {
          "output_type": "execute_result",
          "data": {
            "text/plain": [
              "[('yes',\n",
              "  0.07038177339901479,\n",
              "  0.12290630557236663,\n",
              "  0.0,\n",
              "  0.8571428571428571,\n",
              "  4640),\n",
              " ('no', 0.018910552072421385, 0.05845702815811167, 0.0, 1.0, 36548)]"
            ]
          },
          "metadata": {
            "tags": []
          },
          "execution_count": 160
        }
      ]
    },
    {
      "cell_type": "code",
      "metadata": {
        "id": "YIfCjLfS8nYk"
      },
      "source": [
        "import pandas as pd\n",
        "pd.set_option('display.max_columns', 50)\n",
        "\n",
        "#stats_by_label_df = pd.DataFrame.from_items(duration_by_label, columns=[\"Mean\", \"Std Dev\", \"Min\", \"Max\", \"Count\"], orient='index')\n",
        "stats_by_label_df2 = pd.DataFrame(duration_by_label2, columns=[' ',\"Mean\", \"Std Dev\", \"Min\", \"Max\", \"Count\"])"
      ],
      "execution_count": null,
      "outputs": []
    },
    {
      "cell_type": "markdown",
      "metadata": {
        "id": "DWd1k_MfVVjt"
      },
      "source": [
        "####**Summary Statistics for all the variables by label ('yes' & 'no') and putting it into a dataframe**"
      ]
    },
    {
      "cell_type": "code",
      "metadata": {
        "id": "qP5Rdx1F8sUr",
        "colab": {
          "base_uri": "https://localhost:8080/",
          "height": 129
        },
        "outputId": "f28579ad-5b6b-4cd3-e838-db5618dd8395"
      },
      "source": [
        "print (\"Campaign statistics, by label\")\n",
        "stats_by_label_df2"
      ],
      "execution_count": null,
      "outputs": [
        {
          "output_type": "stream",
          "text": [
            "Campaign statistics, by label\n"
          ],
          "name": "stdout"
        },
        {
          "output_type": "execute_result",
          "data": {
            "text/html": [
              "<div>\n",
              "<style scoped>\n",
              "    .dataframe tbody tr th:only-of-type {\n",
              "        vertical-align: middle;\n",
              "    }\n",
              "\n",
              "    .dataframe tbody tr th {\n",
              "        vertical-align: top;\n",
              "    }\n",
              "\n",
              "    .dataframe thead th {\n",
              "        text-align: right;\n",
              "    }\n",
              "</style>\n",
              "<table border=\"1\" class=\"dataframe\">\n",
              "  <thead>\n",
              "    <tr style=\"text-align: right;\">\n",
              "      <th></th>\n",
              "      <th></th>\n",
              "      <th>Mean</th>\n",
              "      <th>Std Dev</th>\n",
              "      <th>Min</th>\n",
              "      <th>Max</th>\n",
              "      <th>Count</th>\n",
              "    </tr>\n",
              "  </thead>\n",
              "  <tbody>\n",
              "    <tr>\n",
              "      <th>0</th>\n",
              "      <td>yes</td>\n",
              "      <td>0.019122</td>\n",
              "      <td>0.030295</td>\n",
              "      <td>0.0</td>\n",
              "      <td>0.4</td>\n",
              "      <td>4640</td>\n",
              "    </tr>\n",
              "    <tr>\n",
              "      <th>1</th>\n",
              "      <td>no</td>\n",
              "      <td>0.029692</td>\n",
              "      <td>0.052244</td>\n",
              "      <td>0.0</td>\n",
              "      <td>1.0</td>\n",
              "      <td>36548</td>\n",
              "    </tr>\n",
              "  </tbody>\n",
              "</table>\n",
              "</div>"
            ],
            "text/plain": [
              "            Mean   Std Dev  Min  Max  Count\n",
              "0  yes  0.019122  0.030295  0.0  0.4   4640\n",
              "1   no  0.029692  0.052244  0.0  1.0  36548"
            ]
          },
          "metadata": {
            "tags": []
          },
          "execution_count": 162
        }
      ]
    },
    {
      "cell_type": "code",
      "metadata": {
        "id": "sEQOVxKGeLJs"
      },
      "source": [
        "def get_variable_stats_df2(stats_by_label, column_i):\n",
        "    column_stats_by_label = [\n",
        "        (stat[0], float(stat[1].mean()[column_i]), float(sqrt(stat[1].variance()[column_i])), float(stat[1].min()[column_i]), float(stat[1].max()[column_i]), int(stat[1].count())) \n",
        "        for stat in stats_by_label\n",
        "    ]\n",
        "    return pd.DataFrame(column_stats_by_label, columns=[' ',\"Mean\", \"Std Dev\", \"Min\", \"Max\", \"Count\"])"
      ],
      "execution_count": null,
      "outputs": []
    },
    {
      "cell_type": "code",
      "metadata": {
        "id": "96nobv8R9KZf",
        "colab": {
          "base_uri": "https://localhost:8080/",
          "height": 129
        },
        "outputId": "9ce503e3-999f-4866-a310-f07d1120d96e"
      },
      "source": [
        "print (\"Duration statistics, by label\")\n",
        "get_variable_stats_df2(stats_by_label,2)"
      ],
      "execution_count": null,
      "outputs": [
        {
          "output_type": "stream",
          "text": [
            "Duration statistics, by label\n"
          ],
          "name": "stdout"
        },
        {
          "output_type": "execute_result",
          "data": {
            "text/html": [
              "<div>\n",
              "<style scoped>\n",
              "    .dataframe tbody tr th:only-of-type {\n",
              "        vertical-align: middle;\n",
              "    }\n",
              "\n",
              "    .dataframe tbody tr th {\n",
              "        vertical-align: top;\n",
              "    }\n",
              "\n",
              "    .dataframe thead th {\n",
              "        text-align: right;\n",
              "    }\n",
              "</style>\n",
              "<table border=\"1\" class=\"dataframe\">\n",
              "  <thead>\n",
              "    <tr style=\"text-align: right;\">\n",
              "      <th></th>\n",
              "      <th></th>\n",
              "      <th>Mean</th>\n",
              "      <th>Std Dev</th>\n",
              "      <th>Min</th>\n",
              "      <th>Max</th>\n",
              "      <th>Count</th>\n",
              "    </tr>\n",
              "  </thead>\n",
              "  <tbody>\n",
              "    <tr>\n",
              "      <th>0</th>\n",
              "      <td>yes</td>\n",
              "      <td>0.019122</td>\n",
              "      <td>0.030295</td>\n",
              "      <td>0.0</td>\n",
              "      <td>0.4</td>\n",
              "      <td>4640</td>\n",
              "    </tr>\n",
              "    <tr>\n",
              "      <th>1</th>\n",
              "      <td>no</td>\n",
              "      <td>0.029692</td>\n",
              "      <td>0.052244</td>\n",
              "      <td>0.0</td>\n",
              "      <td>1.0</td>\n",
              "      <td>36548</td>\n",
              "    </tr>\n",
              "  </tbody>\n",
              "</table>\n",
              "</div>"
            ],
            "text/plain": [
              "            Mean   Std Dev  Min  Max  Count\n",
              "0  yes  0.019122  0.030295  0.0  0.4   4640\n",
              "1   no  0.029692  0.052244  0.0  1.0  36548"
            ]
          },
          "metadata": {
            "tags": []
          },
          "execution_count": 164
        }
      ]
    },
    {
      "cell_type": "code",
      "metadata": {
        "id": "VPcYMFKM9Wfq",
        "colab": {
          "base_uri": "https://localhost:8080/",
          "height": 129
        },
        "outputId": "78a71641-8119-42ee-9b60-e3ce1d7dd0f0"
      },
      "source": [
        "print (\"Previous no of contacts statistics, by label\")\n",
        "#get_variable_stats_df(stats_by_label,1)\n",
        "get_variable_stats_df2(stats_by_label,3)"
      ],
      "execution_count": null,
      "outputs": [
        {
          "output_type": "stream",
          "text": [
            "Previous no of contacts statistics, by label\n"
          ],
          "name": "stdout"
        },
        {
          "output_type": "execute_result",
          "data": {
            "text/html": [
              "<div>\n",
              "<style scoped>\n",
              "    .dataframe tbody tr th:only-of-type {\n",
              "        vertical-align: middle;\n",
              "    }\n",
              "\n",
              "    .dataframe tbody tr th {\n",
              "        vertical-align: top;\n",
              "    }\n",
              "\n",
              "    .dataframe thead th {\n",
              "        text-align: right;\n",
              "    }\n",
              "</style>\n",
              "<table border=\"1\" class=\"dataframe\">\n",
              "  <thead>\n",
              "    <tr style=\"text-align: right;\">\n",
              "      <th></th>\n",
              "      <th></th>\n",
              "      <th>Mean</th>\n",
              "      <th>Std Dev</th>\n",
              "      <th>Min</th>\n",
              "      <th>Max</th>\n",
              "      <th>Count</th>\n",
              "    </tr>\n",
              "  </thead>\n",
              "  <tbody>\n",
              "    <tr>\n",
              "      <th>0</th>\n",
              "      <td>yes</td>\n",
              "      <td>0.070382</td>\n",
              "      <td>0.122906</td>\n",
              "      <td>0.0</td>\n",
              "      <td>0.857143</td>\n",
              "      <td>4640</td>\n",
              "    </tr>\n",
              "    <tr>\n",
              "      <th>1</th>\n",
              "      <td>no</td>\n",
              "      <td>0.018911</td>\n",
              "      <td>0.058457</td>\n",
              "      <td>0.0</td>\n",
              "      <td>1.000000</td>\n",
              "      <td>36548</td>\n",
              "    </tr>\n",
              "  </tbody>\n",
              "</table>\n",
              "</div>"
            ],
            "text/plain": [
              "            Mean   Std Dev  Min       Max  Count\n",
              "0  yes  0.070382  0.122906  0.0  0.857143   4640\n",
              "1   no  0.018911  0.058457  0.0  1.000000  36548"
            ]
          },
          "metadata": {
            "tags": []
          },
          "execution_count": 165
        }
      ]
    },
    {
      "cell_type": "code",
      "metadata": {
        "colab": {
          "base_uri": "https://localhost:8080/",
          "height": 129
        },
        "id": "qP4G7zIBNf2k",
        "outputId": "ca2ccee1-f365-4bf2-dad3-a867de356928"
      },
      "source": [
        "print (\"Emp.var.rate statistics, by label\")\n",
        "#get_variable_stats_df(stats_by_label,1)\n",
        "get_variable_stats_df2(stats_by_label,4)"
      ],
      "execution_count": null,
      "outputs": [
        {
          "output_type": "stream",
          "text": [
            "Emp.var.rate statistics, by label\n"
          ],
          "name": "stdout"
        },
        {
          "output_type": "execute_result",
          "data": {
            "text/html": [
              "<div>\n",
              "<style scoped>\n",
              "    .dataframe tbody tr th:only-of-type {\n",
              "        vertical-align: middle;\n",
              "    }\n",
              "\n",
              "    .dataframe tbody tr th {\n",
              "        vertical-align: top;\n",
              "    }\n",
              "\n",
              "    .dataframe thead th {\n",
              "        text-align: right;\n",
              "    }\n",
              "</style>\n",
              "<table border=\"1\" class=\"dataframe\">\n",
              "  <thead>\n",
              "    <tr style=\"text-align: right;\">\n",
              "      <th></th>\n",
              "      <th></th>\n",
              "      <th>Mean</th>\n",
              "      <th>Std Dev</th>\n",
              "      <th>Min</th>\n",
              "      <th>Max</th>\n",
              "      <th>Count</th>\n",
              "    </tr>\n",
              "  </thead>\n",
              "  <tbody>\n",
              "    <tr>\n",
              "      <th>0</th>\n",
              "      <td>yes</td>\n",
              "      <td>0.451365</td>\n",
              "      <td>0.338255</td>\n",
              "      <td>0.0</td>\n",
              "      <td>1.0</td>\n",
              "      <td>4640</td>\n",
              "    </tr>\n",
              "    <tr>\n",
              "      <th>1</th>\n",
              "      <td>no</td>\n",
              "      <td>0.760182</td>\n",
              "      <td>0.308944</td>\n",
              "      <td>0.0</td>\n",
              "      <td>1.0</td>\n",
              "      <td>36548</td>\n",
              "    </tr>\n",
              "  </tbody>\n",
              "</table>\n",
              "</div>"
            ],
            "text/plain": [
              "            Mean   Std Dev  Min  Max  Count\n",
              "0  yes  0.451365  0.338255  0.0  1.0   4640\n",
              "1   no  0.760182  0.308944  0.0  1.0  36548"
            ]
          },
          "metadata": {
            "tags": []
          },
          "execution_count": 166
        }
      ]
    },
    {
      "cell_type": "code",
      "metadata": {
        "colab": {
          "base_uri": "https://localhost:8080/",
          "height": 129
        },
        "id": "3z2T9LKKN2tV",
        "outputId": "75a27c2f-6e79-4d5f-ca1a-b363f0631178"
      },
      "source": [
        "print (\"Age statistics\")\n",
        "#get_variable_stats_df(stats_by_label,1)\n",
        "get_variable_stats_df2(stats_by_label,0)"
      ],
      "execution_count": null,
      "outputs": [
        {
          "output_type": "stream",
          "text": [
            "Age statistics\n"
          ],
          "name": "stdout"
        },
        {
          "output_type": "execute_result",
          "data": {
            "text/html": [
              "<div>\n",
              "<style scoped>\n",
              "    .dataframe tbody tr th:only-of-type {\n",
              "        vertical-align: middle;\n",
              "    }\n",
              "\n",
              "    .dataframe tbody tr th {\n",
              "        vertical-align: top;\n",
              "    }\n",
              "\n",
              "    .dataframe thead th {\n",
              "        text-align: right;\n",
              "    }\n",
              "</style>\n",
              "<table border=\"1\" class=\"dataframe\">\n",
              "  <thead>\n",
              "    <tr style=\"text-align: right;\">\n",
              "      <th></th>\n",
              "      <th></th>\n",
              "      <th>Mean</th>\n",
              "      <th>Std Dev</th>\n",
              "      <th>Min</th>\n",
              "      <th>Max</th>\n",
              "      <th>Count</th>\n",
              "    </tr>\n",
              "  </thead>\n",
              "  <tbody>\n",
              "    <tr>\n",
              "      <th>0</th>\n",
              "      <td>yes</td>\n",
              "      <td>0.295224</td>\n",
              "      <td>0.170833</td>\n",
              "      <td>0.0</td>\n",
              "      <td>1.000000</td>\n",
              "      <td>4640</td>\n",
              "    </tr>\n",
              "    <tr>\n",
              "      <th>1</th>\n",
              "      <td>no</td>\n",
              "      <td>0.282854</td>\n",
              "      <td>0.122199</td>\n",
              "      <td>0.0</td>\n",
              "      <td>0.962963</td>\n",
              "      <td>36548</td>\n",
              "    </tr>\n",
              "  </tbody>\n",
              "</table>\n",
              "</div>"
            ],
            "text/plain": [
              "            Mean   Std Dev  Min       Max  Count\n",
              "0  yes  0.295224  0.170833  0.0  1.000000   4640\n",
              "1   no  0.282854  0.122199  0.0  0.962963  36548"
            ]
          },
          "metadata": {
            "tags": []
          },
          "execution_count": 167
        }
      ]
    },
    {
      "cell_type": "code",
      "metadata": {
        "colab": {
          "base_uri": "https://localhost:8080/",
          "height": 129
        },
        "id": "runH2b0gN2v8",
        "outputId": "aaaa5991-dd30-47ac-8107-c022642519f2"
      },
      "source": [
        "print (\"Duration statistics\")\n",
        "#get_variable_stats_df(stats_by_label,1)\n",
        "get_variable_stats_df2(stats_by_label,1)"
      ],
      "execution_count": null,
      "outputs": [
        {
          "output_type": "stream",
          "text": [
            "Duration statistics\n"
          ],
          "name": "stdout"
        },
        {
          "output_type": "execute_result",
          "data": {
            "text/html": [
              "<div>\n",
              "<style scoped>\n",
              "    .dataframe tbody tr th:only-of-type {\n",
              "        vertical-align: middle;\n",
              "    }\n",
              "\n",
              "    .dataframe tbody tr th {\n",
              "        vertical-align: top;\n",
              "    }\n",
              "\n",
              "    .dataframe thead th {\n",
              "        text-align: right;\n",
              "    }\n",
              "</style>\n",
              "<table border=\"1\" class=\"dataframe\">\n",
              "  <thead>\n",
              "    <tr style=\"text-align: right;\">\n",
              "      <th></th>\n",
              "      <th></th>\n",
              "      <th>Mean</th>\n",
              "      <th>Std Dev</th>\n",
              "      <th>Min</th>\n",
              "      <th>Max</th>\n",
              "      <th>Count</th>\n",
              "    </tr>\n",
              "  </thead>\n",
              "  <tbody>\n",
              "    <tr>\n",
              "      <th>0</th>\n",
              "      <td>yes</td>\n",
              "      <td>0.112483</td>\n",
              "      <td>0.081572</td>\n",
              "      <td>0.007523</td>\n",
              "      <td>0.853802</td>\n",
              "      <td>4640</td>\n",
              "    </tr>\n",
              "    <tr>\n",
              "      <th>1</th>\n",
              "      <td>no</td>\n",
              "      <td>0.044905</td>\n",
              "      <td>0.042110</td>\n",
              "      <td>0.000000</td>\n",
              "      <td>1.000000</td>\n",
              "      <td>36548</td>\n",
              "    </tr>\n",
              "  </tbody>\n",
              "</table>\n",
              "</div>"
            ],
            "text/plain": [
              "            Mean   Std Dev       Min       Max  Count\n",
              "0  yes  0.112483  0.081572  0.007523  0.853802   4640\n",
              "1   no  0.044905  0.042110  0.000000  1.000000  36548"
            ]
          },
          "metadata": {
            "tags": []
          },
          "execution_count": 168
        }
      ]
    },
    {
      "cell_type": "code",
      "metadata": {
        "colab": {
          "base_uri": "https://localhost:8080/",
          "height": 129
        },
        "id": "p_nkm8BEN2yW",
        "outputId": "cc6ddcba-53f4-497b-ae39-16746b25b1d8"
      },
      "source": [
        "print (\"Cons.price.idx statistics\")\n",
        "#get_variable_stats_df(stats_by_label,1)\n",
        "get_variable_stats_df2(stats_by_label,5)"
      ],
      "execution_count": null,
      "outputs": [
        {
          "output_type": "stream",
          "text": [
            "Cons.price.idx statistics\n"
          ],
          "name": "stdout"
        },
        {
          "output_type": "execute_result",
          "data": {
            "text/html": [
              "<div>\n",
              "<style scoped>\n",
              "    .dataframe tbody tr th:only-of-type {\n",
              "        vertical-align: middle;\n",
              "    }\n",
              "\n",
              "    .dataframe tbody tr th {\n",
              "        vertical-align: top;\n",
              "    }\n",
              "\n",
              "    .dataframe thead th {\n",
              "        text-align: right;\n",
              "    }\n",
              "</style>\n",
              "<table border=\"1\" class=\"dataframe\">\n",
              "  <thead>\n",
              "    <tr style=\"text-align: right;\">\n",
              "      <th></th>\n",
              "      <th></th>\n",
              "      <th>Mean</th>\n",
              "      <th>Std Dev</th>\n",
              "      <th>Min</th>\n",
              "      <th>Max</th>\n",
              "      <th>Count</th>\n",
              "    </tr>\n",
              "  </thead>\n",
              "  <tbody>\n",
              "    <tr>\n",
              "      <th>0</th>\n",
              "      <td>yes</td>\n",
              "      <td>0.449488</td>\n",
              "      <td>0.263696</td>\n",
              "      <td>0.0</td>\n",
              "      <td>1.0</td>\n",
              "      <td>4640</td>\n",
              "    </tr>\n",
              "    <tr>\n",
              "      <th>1</th>\n",
              "      <td>no</td>\n",
              "      <td>0.546671</td>\n",
              "      <td>0.217846</td>\n",
              "      <td>0.0</td>\n",
              "      <td>1.0</td>\n",
              "      <td>36548</td>\n",
              "    </tr>\n",
              "  </tbody>\n",
              "</table>\n",
              "</div>"
            ],
            "text/plain": [
              "            Mean   Std Dev  Min  Max  Count\n",
              "0  yes  0.449488  0.263696  0.0  1.0   4640\n",
              "1   no  0.546671  0.217846  0.0  1.0  36548"
            ]
          },
          "metadata": {
            "tags": []
          },
          "execution_count": 169
        }
      ]
    },
    {
      "cell_type": "code",
      "metadata": {
        "colab": {
          "base_uri": "https://localhost:8080/",
          "height": 129
        },
        "id": "FslmIzMPN20g",
        "outputId": "4b5140be-6bc0-4dfb-e063-2cb8cdda54bd"
      },
      "source": [
        "print (\"cons.conf.idx statistics\")\n",
        "#get_variable_stats_df(stats_by_label,1)\n",
        "get_variable_stats_df2(stats_by_label,6)"
      ],
      "execution_count": null,
      "outputs": [
        {
          "output_type": "stream",
          "text": [
            "cons.conf.idx statistics\n"
          ],
          "name": "stdout"
        },
        {
          "output_type": "execute_result",
          "data": {
            "text/html": [
              "<div>\n",
              "<style scoped>\n",
              "    .dataframe tbody tr th:only-of-type {\n",
              "        vertical-align: middle;\n",
              "    }\n",
              "\n",
              "    .dataframe tbody tr th {\n",
              "        vertical-align: top;\n",
              "    }\n",
              "\n",
              "    .dataframe thead th {\n",
              "        text-align: right;\n",
              "    }\n",
              "</style>\n",
              "<table border=\"1\" class=\"dataframe\">\n",
              "  <thead>\n",
              "    <tr style=\"text-align: right;\">\n",
              "      <th></th>\n",
              "      <th></th>\n",
              "      <th>Mean</th>\n",
              "      <th>Std Dev</th>\n",
              "      <th>Min</th>\n",
              "      <th>Max</th>\n",
              "      <th>Count</th>\n",
              "    </tr>\n",
              "  </thead>\n",
              "  <tbody>\n",
              "    <tr>\n",
              "      <th>0</th>\n",
              "      <td>yes</td>\n",
              "      <td>0.460678</td>\n",
              "      <td>0.25689</td>\n",
              "      <td>0.0</td>\n",
              "      <td>1.0</td>\n",
              "      <td>4640</td>\n",
              "    </tr>\n",
              "    <tr>\n",
              "      <th>1</th>\n",
              "      <td>no</td>\n",
              "      <td>0.427067</td>\n",
              "      <td>0.18373</td>\n",
              "      <td>0.0</td>\n",
              "      <td>1.0</td>\n",
              "      <td>36548</td>\n",
              "    </tr>\n",
              "  </tbody>\n",
              "</table>\n",
              "</div>"
            ],
            "text/plain": [
              "            Mean  Std Dev  Min  Max  Count\n",
              "0  yes  0.460678  0.25689  0.0  1.0   4640\n",
              "1   no  0.427067  0.18373  0.0  1.0  36548"
            ]
          },
          "metadata": {
            "tags": []
          },
          "execution_count": 170
        }
      ]
    },
    {
      "cell_type": "code",
      "metadata": {
        "colab": {
          "base_uri": "https://localhost:8080/",
          "height": 129
        },
        "id": "fdu_8isWN24q",
        "outputId": "53703b26-c456-43fe-c746-4511e98354cb"
      },
      "source": [
        "print (\"euribor3m statistics\")\n",
        "#get_variable_stats_df(stats_by_label,1)\n",
        "get_variable_stats_df2(stats_by_label,7)"
      ],
      "execution_count": null,
      "outputs": [
        {
          "output_type": "stream",
          "text": [
            "euribor3m statistics\n"
          ],
          "name": "stdout"
        },
        {
          "output_type": "execute_result",
          "data": {
            "text/html": [
              "<div>\n",
              "<style scoped>\n",
              "    .dataframe tbody tr th:only-of-type {\n",
              "        vertical-align: middle;\n",
              "    }\n",
              "\n",
              "    .dataframe tbody tr th {\n",
              "        vertical-align: top;\n",
              "    }\n",
              "\n",
              "    .dataframe thead th {\n",
              "        text-align: right;\n",
              "    }\n",
              "</style>\n",
              "<table border=\"1\" class=\"dataframe\">\n",
              "  <thead>\n",
              "    <tr style=\"text-align: right;\">\n",
              "      <th></th>\n",
              "      <th></th>\n",
              "      <th>Mean</th>\n",
              "      <th>Std Dev</th>\n",
              "      <th>Min</th>\n",
              "      <th>Max</th>\n",
              "      <th>Count</th>\n",
              "    </tr>\n",
              "  </thead>\n",
              "  <tbody>\n",
              "    <tr>\n",
              "      <th>0</th>\n",
              "      <td>yes</td>\n",
              "      <td>0.337596</td>\n",
              "      <td>0.395057</td>\n",
              "      <td>0.0</td>\n",
              "      <td>1.0</td>\n",
              "      <td>4640</td>\n",
              "    </tr>\n",
              "    <tr>\n",
              "      <th>1</th>\n",
              "      <td>no</td>\n",
              "      <td>0.720356</td>\n",
              "      <td>0.371387</td>\n",
              "      <td>0.0</td>\n",
              "      <td>1.0</td>\n",
              "      <td>36548</td>\n",
              "    </tr>\n",
              "  </tbody>\n",
              "</table>\n",
              "</div>"
            ],
            "text/plain": [
              "            Mean   Std Dev  Min  Max  Count\n",
              "0  yes  0.337596  0.395057  0.0  1.0   4640\n",
              "1   no  0.720356  0.371387  0.0  1.0  36548"
            ]
          },
          "metadata": {
            "tags": []
          },
          "execution_count": 171
        }
      ]
    },
    {
      "cell_type": "code",
      "metadata": {
        "colab": {
          "base_uri": "https://localhost:8080/",
          "height": 129
        },
        "id": "7KVsU1k3N29e",
        "outputId": "ccaf6102-29eb-4e37-d57d-b8e61feb5701"
      },
      "source": [
        "print (\"nr.employed statistics\")\n",
        "#get_variable_stats_df(stats_by_label,1)\n",
        "get_variable_stats_df2(stats_by_label,8)"
      ],
      "execution_count": null,
      "outputs": [
        {
          "output_type": "stream",
          "text": [
            "nr.employed statistics\n"
          ],
          "name": "stdout"
        },
        {
          "output_type": "execute_result",
          "data": {
            "text/html": [
              "<div>\n",
              "<style scoped>\n",
              "    .dataframe tbody tr th:only-of-type {\n",
              "        vertical-align: middle;\n",
              "    }\n",
              "\n",
              "    .dataframe tbody tr th {\n",
              "        vertical-align: top;\n",
              "    }\n",
              "\n",
              "    .dataframe thead th {\n",
              "        text-align: right;\n",
              "    }\n",
              "</style>\n",
              "<table border=\"1\" class=\"dataframe\">\n",
              "  <thead>\n",
              "    <tr style=\"text-align: right;\">\n",
              "      <th></th>\n",
              "      <th></th>\n",
              "      <th>Mean</th>\n",
              "      <th>Std Dev</th>\n",
              "      <th>Min</th>\n",
              "      <th>Max</th>\n",
              "      <th>Count</th>\n",
              "    </tr>\n",
              "  </thead>\n",
              "  <tbody>\n",
              "    <tr>\n",
              "      <th>0</th>\n",
              "      <td>yes</td>\n",
              "      <td>0.496974</td>\n",
              "      <td>0.331082</td>\n",
              "      <td>0.0</td>\n",
              "      <td>1.0</td>\n",
              "      <td>4640</td>\n",
              "    </tr>\n",
              "    <tr>\n",
              "      <th>1</th>\n",
              "      <td>no</td>\n",
              "      <td>0.803548</td>\n",
              "      <td>0.244410</td>\n",
              "      <td>0.0</td>\n",
              "      <td>1.0</td>\n",
              "      <td>36548</td>\n",
              "    </tr>\n",
              "  </tbody>\n",
              "</table>\n",
              "</div>"
            ],
            "text/plain": [
              "            Mean   Std Dev  Min  Max  Count\n",
              "0  yes  0.496974  0.331082  0.0  1.0   4640\n",
              "1   no  0.803548  0.244410  0.0  1.0  36548"
            ]
          },
          "metadata": {
            "tags": []
          },
          "execution_count": 172
        }
      ]
    },
    {
      "cell_type": "markdown",
      "metadata": {
        "id": "hbCm0_qFU9PY"
      },
      "source": [
        "###**Correlations**\n",
        "Spearman’s correlation method is used here to  calculate the  pairwise correlation between the variables"
      ]
    },
    {
      "cell_type": "code",
      "metadata": {
        "id": "JQg9Xv7XA01A",
        "colab": {
          "base_uri": "https://localhost:8080/"
        },
        "outputId": "e09e22e4-5278-4f8c-e093-44738166156f"
      },
      "source": [
        "raw_data_sample = raw_data.sample(False, 0.1, 1234)\n",
        "sample_size = raw_data_sample.count()\n",
        "total_size = raw_data.count()\n",
        "print (\"Sample size is \",sample_size , \"of \", total_size)"
      ],
      "execution_count": null,
      "outputs": [
        {
          "output_type": "stream",
          "text": [
            "Sample size is  3951 of  41188\n"
          ],
          "name": "stdout"
        }
      ]
    },
    {
      "cell_type": "code",
      "metadata": {
        "id": "laCbb9SuGwya",
        "colab": {
          "base_uri": "https://localhost:8080/"
        },
        "outputId": "0ec23960-4fda-48b2-e518-d6005c7b99ae"
      },
      "source": [
        "import numpy as np\n",
        "\n",
        "def parse_interaction(line):\n",
        "    line_split = line.split(\",\")\n",
        "    # keep just numeric and logical values\n",
        "    symbolic_indexes = [9,10,11,12,13,14,15,16,17,18,19,20]\n",
        "    clean_line_split = [item for i,item in enumerate(line_split) if i not in symbolic_indexes]\n",
        "    return np.array([float(x) for x in clean_line_split])\n",
        "\n",
        "vector_data_sample = raw_data_sample.map(parse_interaction)\n",
        "vector_data_sample.take(2)"
      ],
      "execution_count": null,
      "outputs": [
        {
          "output_type": "execute_result",
          "data": {
            "text/plain": [
              "[array([0.48148148, 0.05307035, 0.        , 0.        , 0.9375    ,\n",
              "        0.69875292, 0.60251046, 0.95737928, 0.85984848]),\n",
              " array([0.08641975, 0.07726718, 0.        , 0.        , 0.9375    ,\n",
              "        0.69875292, 0.60251046, 0.95737928, 0.85984848])]"
            ]
          },
          "metadata": {
            "tags": []
          },
          "execution_count": 174
        }
      ]
    },
    {
      "cell_type": "code",
      "metadata": {
        "id": "j54U7AAh9oz_"
      },
      "source": [
        "from pyspark.mllib.stat import Statistics \n",
        "correlation_matrix = Statistics.corr(vector_data_sample, method=\"spearman\") # we have used a smaller sample here\n"
      ],
      "execution_count": null,
      "outputs": []
    },
    {
      "cell_type": "markdown",
      "metadata": {
        "id": "EMJ8lByPWEYN"
      },
      "source": [
        "**We have used a Pandas DataFrame here to render the correlation matrix in a more comprehensive way.**"
      ]
    },
    {
      "cell_type": "code",
      "metadata": {
        "id": "8W-BSQmLHOAQ",
        "colab": {
          "base_uri": "https://localhost:8080/",
          "height": 327
        },
        "outputId": "3c7669e8-c32c-4aca-cb4f-340fe8d40695"
      },
      "source": [
        "import pandas as pd\n",
        "pd.set_option('display.max_columns', 50)\n",
        "\n",
        "col_names = [\"Age\",\"Duration\",\"Campaign\",\"Previous\",\"Emp.var.rate\",\n",
        "             \"cons.price.idx\",\"cons.conf.idx\",\"euribor3m\",\"nr.employed\"]\n",
        "\n",
        "\n",
        "corr_df = pd.DataFrame(correlation_matrix, index=col_names, columns=col_names)\n",
        "\n",
        "corr_df"
      ],
      "execution_count": null,
      "outputs": [
        {
          "output_type": "execute_result",
          "data": {
            "text/html": [
              "<div>\n",
              "<style scoped>\n",
              "    .dataframe tbody tr th:only-of-type {\n",
              "        vertical-align: middle;\n",
              "    }\n",
              "\n",
              "    .dataframe tbody tr th {\n",
              "        vertical-align: top;\n",
              "    }\n",
              "\n",
              "    .dataframe thead th {\n",
              "        text-align: right;\n",
              "    }\n",
              "</style>\n",
              "<table border=\"1\" class=\"dataframe\">\n",
              "  <thead>\n",
              "    <tr style=\"text-align: right;\">\n",
              "      <th></th>\n",
              "      <th>Age</th>\n",
              "      <th>Duration</th>\n",
              "      <th>Campaign</th>\n",
              "      <th>Previous</th>\n",
              "      <th>Emp.var.rate</th>\n",
              "      <th>cons.price.idx</th>\n",
              "      <th>cons.conf.idx</th>\n",
              "      <th>euribor3m</th>\n",
              "      <th>nr.employed</th>\n",
              "    </tr>\n",
              "  </thead>\n",
              "  <tbody>\n",
              "    <tr>\n",
              "      <th>Age</th>\n",
              "      <td>1.000000</td>\n",
              "      <td>-0.013576</td>\n",
              "      <td>0.000105</td>\n",
              "      <td>0.011658</td>\n",
              "      <td>0.045326</td>\n",
              "      <td>0.061065</td>\n",
              "      <td>0.109334</td>\n",
              "      <td>0.046645</td>\n",
              "      <td>0.042812</td>\n",
              "    </tr>\n",
              "    <tr>\n",
              "      <th>Duration</th>\n",
              "      <td>-0.013576</td>\n",
              "      <td>1.000000</td>\n",
              "      <td>-0.040788</td>\n",
              "      <td>0.022859</td>\n",
              "      <td>-0.042230</td>\n",
              "      <td>0.018173</td>\n",
              "      <td>0.021399</td>\n",
              "      <td>-0.050259</td>\n",
              "      <td>-0.072333</td>\n",
              "    </tr>\n",
              "    <tr>\n",
              "      <th>Campaign</th>\n",
              "      <td>0.000105</td>\n",
              "      <td>-0.040788</td>\n",
              "      <td>1.000000</td>\n",
              "      <td>-0.067053</td>\n",
              "      <td>0.151612</td>\n",
              "      <td>0.085293</td>\n",
              "      <td>-0.021448</td>\n",
              "      <td>0.140353</td>\n",
              "      <td>0.142309</td>\n",
              "    </tr>\n",
              "    <tr>\n",
              "      <th>Previous</th>\n",
              "      <td>0.011658</td>\n",
              "      <td>0.022859</td>\n",
              "      <td>-0.067053</td>\n",
              "      <td>1.000000</td>\n",
              "      <td>-0.433654</td>\n",
              "      <td>-0.291736</td>\n",
              "      <td>-0.110958</td>\n",
              "      <td>-0.451582</td>\n",
              "      <td>-0.438258</td>\n",
              "    </tr>\n",
              "    <tr>\n",
              "      <th>Emp.var.rate</th>\n",
              "      <td>0.045326</td>\n",
              "      <td>-0.042230</td>\n",
              "      <td>0.151612</td>\n",
              "      <td>-0.433654</td>\n",
              "      <td>1.000000</td>\n",
              "      <td>0.669521</td>\n",
              "      <td>0.224463</td>\n",
              "      <td>0.939491</td>\n",
              "      <td>0.947609</td>\n",
              "    </tr>\n",
              "    <tr>\n",
              "      <th>cons.price.idx</th>\n",
              "      <td>0.061065</td>\n",
              "      <td>0.018173</td>\n",
              "      <td>0.085293</td>\n",
              "      <td>-0.291736</td>\n",
              "      <td>0.669521</td>\n",
              "      <td>1.000000</td>\n",
              "      <td>0.260643</td>\n",
              "      <td>0.499292</td>\n",
              "      <td>0.477857</td>\n",
              "    </tr>\n",
              "    <tr>\n",
              "      <th>cons.conf.idx</th>\n",
              "      <td>0.109334</td>\n",
              "      <td>0.021399</td>\n",
              "      <td>-0.021448</td>\n",
              "      <td>-0.110958</td>\n",
              "      <td>0.224463</td>\n",
              "      <td>0.260643</td>\n",
              "      <td>1.000000</td>\n",
              "      <td>0.238691</td>\n",
              "      <td>0.132498</td>\n",
              "    </tr>\n",
              "    <tr>\n",
              "      <th>euribor3m</th>\n",
              "      <td>0.046645</td>\n",
              "      <td>-0.050259</td>\n",
              "      <td>0.140353</td>\n",
              "      <td>-0.451582</td>\n",
              "      <td>0.939491</td>\n",
              "      <td>0.499292</td>\n",
              "      <td>0.238691</td>\n",
              "      <td>1.000000</td>\n",
              "      <td>0.928453</td>\n",
              "    </tr>\n",
              "    <tr>\n",
              "      <th>nr.employed</th>\n",
              "      <td>0.042812</td>\n",
              "      <td>-0.072333</td>\n",
              "      <td>0.142309</td>\n",
              "      <td>-0.438258</td>\n",
              "      <td>0.947609</td>\n",
              "      <td>0.477857</td>\n",
              "      <td>0.132498</td>\n",
              "      <td>0.928453</td>\n",
              "      <td>1.000000</td>\n",
              "    </tr>\n",
              "  </tbody>\n",
              "</table>\n",
              "</div>"
            ],
            "text/plain": [
              "                     Age  Duration  Campaign  Previous  Emp.var.rate  \\\n",
              "Age             1.000000 -0.013576  0.000105  0.011658      0.045326   \n",
              "Duration       -0.013576  1.000000 -0.040788  0.022859     -0.042230   \n",
              "Campaign        0.000105 -0.040788  1.000000 -0.067053      0.151612   \n",
              "Previous        0.011658  0.022859 -0.067053  1.000000     -0.433654   \n",
              "Emp.var.rate    0.045326 -0.042230  0.151612 -0.433654      1.000000   \n",
              "cons.price.idx  0.061065  0.018173  0.085293 -0.291736      0.669521   \n",
              "cons.conf.idx   0.109334  0.021399 -0.021448 -0.110958      0.224463   \n",
              "euribor3m       0.046645 -0.050259  0.140353 -0.451582      0.939491   \n",
              "nr.employed     0.042812 -0.072333  0.142309 -0.438258      0.947609   \n",
              "\n",
              "                cons.price.idx  cons.conf.idx  euribor3m  nr.employed  \n",
              "Age                   0.061065       0.109334   0.046645     0.042812  \n",
              "Duration              0.018173       0.021399  -0.050259    -0.072333  \n",
              "Campaign              0.085293      -0.021448   0.140353     0.142309  \n",
              "Previous             -0.291736      -0.110958  -0.451582    -0.438258  \n",
              "Emp.var.rate          0.669521       0.224463   0.939491     0.947609  \n",
              "cons.price.idx        1.000000       0.260643   0.499292     0.477857  \n",
              "cons.conf.idx         0.260643       1.000000   0.238691     0.132498  \n",
              "euribor3m             0.499292       0.238691   1.000000     0.928453  \n",
              "nr.employed           0.477857       0.132498   0.928453     1.000000  "
            ]
          },
          "metadata": {
            "tags": []
          },
          "execution_count": 176
        }
      ]
    },
    {
      "cell_type": "code",
      "metadata": {
        "id": "K7jv05h4_xAN",
        "colab": {
          "base_uri": "https://localhost:8080/",
          "height": 327
        },
        "outputId": "c5893450-b5ff-4595-f06f-61d354fa2c50"
      },
      "source": [
        "# get a boolean dataframe where true means that a pair of variables is highly correlated\n",
        "highly_correlated_df = (abs(corr_df) > .8) & (corr_df < 1.0)\n",
        "highly_correlated_df"
      ],
      "execution_count": null,
      "outputs": [
        {
          "output_type": "execute_result",
          "data": {
            "text/html": [
              "<div>\n",
              "<style scoped>\n",
              "    .dataframe tbody tr th:only-of-type {\n",
              "        vertical-align: middle;\n",
              "    }\n",
              "\n",
              "    .dataframe tbody tr th {\n",
              "        vertical-align: top;\n",
              "    }\n",
              "\n",
              "    .dataframe thead th {\n",
              "        text-align: right;\n",
              "    }\n",
              "</style>\n",
              "<table border=\"1\" class=\"dataframe\">\n",
              "  <thead>\n",
              "    <tr style=\"text-align: right;\">\n",
              "      <th></th>\n",
              "      <th>Age</th>\n",
              "      <th>Duration</th>\n",
              "      <th>Campaign</th>\n",
              "      <th>Previous</th>\n",
              "      <th>Emp.var.rate</th>\n",
              "      <th>cons.price.idx</th>\n",
              "      <th>cons.conf.idx</th>\n",
              "      <th>euribor3m</th>\n",
              "      <th>nr.employed</th>\n",
              "    </tr>\n",
              "  </thead>\n",
              "  <tbody>\n",
              "    <tr>\n",
              "      <th>Age</th>\n",
              "      <td>False</td>\n",
              "      <td>False</td>\n",
              "      <td>False</td>\n",
              "      <td>False</td>\n",
              "      <td>False</td>\n",
              "      <td>False</td>\n",
              "      <td>False</td>\n",
              "      <td>False</td>\n",
              "      <td>False</td>\n",
              "    </tr>\n",
              "    <tr>\n",
              "      <th>Duration</th>\n",
              "      <td>False</td>\n",
              "      <td>False</td>\n",
              "      <td>False</td>\n",
              "      <td>False</td>\n",
              "      <td>False</td>\n",
              "      <td>False</td>\n",
              "      <td>False</td>\n",
              "      <td>False</td>\n",
              "      <td>False</td>\n",
              "    </tr>\n",
              "    <tr>\n",
              "      <th>Campaign</th>\n",
              "      <td>False</td>\n",
              "      <td>False</td>\n",
              "      <td>False</td>\n",
              "      <td>False</td>\n",
              "      <td>False</td>\n",
              "      <td>False</td>\n",
              "      <td>False</td>\n",
              "      <td>False</td>\n",
              "      <td>False</td>\n",
              "    </tr>\n",
              "    <tr>\n",
              "      <th>Previous</th>\n",
              "      <td>False</td>\n",
              "      <td>False</td>\n",
              "      <td>False</td>\n",
              "      <td>False</td>\n",
              "      <td>False</td>\n",
              "      <td>False</td>\n",
              "      <td>False</td>\n",
              "      <td>False</td>\n",
              "      <td>False</td>\n",
              "    </tr>\n",
              "    <tr>\n",
              "      <th>Emp.var.rate</th>\n",
              "      <td>False</td>\n",
              "      <td>False</td>\n",
              "      <td>False</td>\n",
              "      <td>False</td>\n",
              "      <td>False</td>\n",
              "      <td>False</td>\n",
              "      <td>False</td>\n",
              "      <td>True</td>\n",
              "      <td>True</td>\n",
              "    </tr>\n",
              "    <tr>\n",
              "      <th>cons.price.idx</th>\n",
              "      <td>False</td>\n",
              "      <td>False</td>\n",
              "      <td>False</td>\n",
              "      <td>False</td>\n",
              "      <td>False</td>\n",
              "      <td>False</td>\n",
              "      <td>False</td>\n",
              "      <td>False</td>\n",
              "      <td>False</td>\n",
              "    </tr>\n",
              "    <tr>\n",
              "      <th>cons.conf.idx</th>\n",
              "      <td>False</td>\n",
              "      <td>False</td>\n",
              "      <td>False</td>\n",
              "      <td>False</td>\n",
              "      <td>False</td>\n",
              "      <td>False</td>\n",
              "      <td>False</td>\n",
              "      <td>False</td>\n",
              "      <td>False</td>\n",
              "    </tr>\n",
              "    <tr>\n",
              "      <th>euribor3m</th>\n",
              "      <td>False</td>\n",
              "      <td>False</td>\n",
              "      <td>False</td>\n",
              "      <td>False</td>\n",
              "      <td>True</td>\n",
              "      <td>False</td>\n",
              "      <td>False</td>\n",
              "      <td>False</td>\n",
              "      <td>True</td>\n",
              "    </tr>\n",
              "    <tr>\n",
              "      <th>nr.employed</th>\n",
              "      <td>False</td>\n",
              "      <td>False</td>\n",
              "      <td>False</td>\n",
              "      <td>False</td>\n",
              "      <td>True</td>\n",
              "      <td>False</td>\n",
              "      <td>False</td>\n",
              "      <td>True</td>\n",
              "      <td>False</td>\n",
              "    </tr>\n",
              "  </tbody>\n",
              "</table>\n",
              "</div>"
            ],
            "text/plain": [
              "                  Age  Duration  Campaign  Previous  Emp.var.rate  \\\n",
              "Age             False     False     False     False         False   \n",
              "Duration        False     False     False     False         False   \n",
              "Campaign        False     False     False     False         False   \n",
              "Previous        False     False     False     False         False   \n",
              "Emp.var.rate    False     False     False     False         False   \n",
              "cons.price.idx  False     False     False     False         False   \n",
              "cons.conf.idx   False     False     False     False         False   \n",
              "euribor3m       False     False     False     False          True   \n",
              "nr.employed     False     False     False     False          True   \n",
              "\n",
              "                cons.price.idx  cons.conf.idx  euribor3m  nr.employed  \n",
              "Age                      False          False      False        False  \n",
              "Duration                 False          False      False        False  \n",
              "Campaign                 False          False      False        False  \n",
              "Previous                 False          False      False        False  \n",
              "Emp.var.rate             False          False       True         True  \n",
              "cons.price.idx           False          False      False        False  \n",
              "cons.conf.idx            False          False      False        False  \n",
              "euribor3m                False          False      False         True  \n",
              "nr.employed              False          False       True        False  "
            ]
          },
          "metadata": {
            "tags": []
          },
          "execution_count": 177
        }
      ]
    },
    {
      "cell_type": "code",
      "metadata": {
        "id": "X1-g2-h-AJ0O",
        "colab": {
          "base_uri": "https://localhost:8080/"
        },
        "outputId": "31a3f53e-4b77-4b9c-a054-790f31c8acc0"
      },
      "source": [
        "# get the names of the variables so we can use them to slice the dataframe\n",
        "correlated_vars_index = (highly_correlated_df==True).any()\n",
        "correlated_vars_index"
      ],
      "execution_count": null,
      "outputs": [
        {
          "output_type": "execute_result",
          "data": {
            "text/plain": [
              "Age               False\n",
              "Duration          False\n",
              "Campaign          False\n",
              "Previous          False\n",
              "Emp.var.rate       True\n",
              "cons.price.idx    False\n",
              "cons.conf.idx     False\n",
              "euribor3m          True\n",
              "nr.employed        True\n",
              "dtype: bool"
            ]
          },
          "metadata": {
            "tags": []
          },
          "execution_count": 178
        }
      ]
    },
    {
      "cell_type": "code",
      "metadata": {
        "id": "HW9PAqxK_95W",
        "colab": {
          "base_uri": "https://localhost:8080/"
        },
        "outputId": "bed1537a-deb2-4530-c36d-84264d2cbeda"
      },
      "source": [
        "# columns that have some high correlation\n",
        "correlated_var_names = correlated_vars_index[correlated_vars_index==True].index\n",
        "correlated_var_names"
      ],
      "execution_count": null,
      "outputs": [
        {
          "output_type": "execute_result",
          "data": {
            "text/plain": [
              "Index(['Emp.var.rate', 'euribor3m', 'nr.employed'], dtype='object')"
            ]
          },
          "metadata": {
            "tags": []
          },
          "execution_count": 179
        }
      ]
    },
    {
      "cell_type": "code",
      "metadata": {
        "id": "Da7n4d4KB0eq",
        "colab": {
          "base_uri": "https://localhost:8080/"
        },
        "outputId": "644a54a2-d313-4395-b118-7bba80952f3a"
      },
      "source": [
        "# columns that have no high correlation\n",
        "not_correlated_var_names = correlated_vars_index[correlated_vars_index!=True].index\n",
        "not_correlated_var_names"
      ],
      "execution_count": null,
      "outputs": [
        {
          "output_type": "execute_result",
          "data": {
            "text/plain": [
              "Index(['Age', 'Duration', 'Campaign', 'Previous', 'cons.price.idx',\n",
              "       'cons.conf.idx'],\n",
              "      dtype='object')"
            ]
          },
          "metadata": {
            "tags": []
          },
          "execution_count": 180
        }
      ]
    },
    {
      "cell_type": "code",
      "metadata": {
        "id": "Ys09YRL2AVYG",
        "colab": {
          "base_uri": "https://localhost:8080/",
          "height": 141
        },
        "outputId": "78dc985f-a54b-43f8-b871-acbfe91f3d1a"
      },
      "source": [
        "# slice it\n",
        "highly_correlated_df.loc[correlated_var_names,correlated_var_names]"
      ],
      "execution_count": null,
      "outputs": [
        {
          "output_type": "execute_result",
          "data": {
            "text/html": [
              "<div>\n",
              "<style scoped>\n",
              "    .dataframe tbody tr th:only-of-type {\n",
              "        vertical-align: middle;\n",
              "    }\n",
              "\n",
              "    .dataframe tbody tr th {\n",
              "        vertical-align: top;\n",
              "    }\n",
              "\n",
              "    .dataframe thead th {\n",
              "        text-align: right;\n",
              "    }\n",
              "</style>\n",
              "<table border=\"1\" class=\"dataframe\">\n",
              "  <thead>\n",
              "    <tr style=\"text-align: right;\">\n",
              "      <th></th>\n",
              "      <th>Emp.var.rate</th>\n",
              "      <th>euribor3m</th>\n",
              "      <th>nr.employed</th>\n",
              "    </tr>\n",
              "  </thead>\n",
              "  <tbody>\n",
              "    <tr>\n",
              "      <th>Emp.var.rate</th>\n",
              "      <td>False</td>\n",
              "      <td>True</td>\n",
              "      <td>True</td>\n",
              "    </tr>\n",
              "    <tr>\n",
              "      <th>euribor3m</th>\n",
              "      <td>True</td>\n",
              "      <td>False</td>\n",
              "      <td>True</td>\n",
              "    </tr>\n",
              "    <tr>\n",
              "      <th>nr.employed</th>\n",
              "      <td>True</td>\n",
              "      <td>True</td>\n",
              "      <td>False</td>\n",
              "    </tr>\n",
              "  </tbody>\n",
              "</table>\n",
              "</div>"
            ],
            "text/plain": [
              "              Emp.var.rate  euribor3m  nr.employed\n",
              "Emp.var.rate         False       True         True\n",
              "euribor3m             True      False         True\n",
              "nr.employed           True       True        False"
            ]
          },
          "metadata": {
            "tags": []
          },
          "execution_count": 181
        }
      ]
    },
    {
      "cell_type": "code",
      "metadata": {
        "id": "0JiC61W-HjrY",
        "colab": {
          "base_uri": "https://localhost:8080/",
          "height": 141
        },
        "outputId": "0f51543b-6c5b-46aa-a3f9-8a3e463e5206"
      },
      "source": [
        "#Above four steps done in one cell\n",
        "# get a boolean dataframe where true means that a pair of variables is highly correlated\n",
        "highly_correlated_df = (abs(corr_df) > .8) & (corr_df < 1.0)\n",
        "# get the names of the variables so we can use them to slice the dataframe\n",
        "correlated_vars_index = (highly_correlated_df==True).any()\n",
        "correlated_var_names = correlated_vars_index[correlated_vars_index==True].index\n",
        "# slice it\n",
        "highly_correlated_df.loc[correlated_var_names,correlated_var_names]"
      ],
      "execution_count": null,
      "outputs": [
        {
          "output_type": "execute_result",
          "data": {
            "text/html": [
              "<div>\n",
              "<style scoped>\n",
              "    .dataframe tbody tr th:only-of-type {\n",
              "        vertical-align: middle;\n",
              "    }\n",
              "\n",
              "    .dataframe tbody tr th {\n",
              "        vertical-align: top;\n",
              "    }\n",
              "\n",
              "    .dataframe thead th {\n",
              "        text-align: right;\n",
              "    }\n",
              "</style>\n",
              "<table border=\"1\" class=\"dataframe\">\n",
              "  <thead>\n",
              "    <tr style=\"text-align: right;\">\n",
              "      <th></th>\n",
              "      <th>Emp.var.rate</th>\n",
              "      <th>euribor3m</th>\n",
              "      <th>nr.employed</th>\n",
              "    </tr>\n",
              "  </thead>\n",
              "  <tbody>\n",
              "    <tr>\n",
              "      <th>Emp.var.rate</th>\n",
              "      <td>False</td>\n",
              "      <td>True</td>\n",
              "      <td>True</td>\n",
              "    </tr>\n",
              "    <tr>\n",
              "      <th>euribor3m</th>\n",
              "      <td>True</td>\n",
              "      <td>False</td>\n",
              "      <td>True</td>\n",
              "    </tr>\n",
              "    <tr>\n",
              "      <th>nr.employed</th>\n",
              "      <td>True</td>\n",
              "      <td>True</td>\n",
              "      <td>False</td>\n",
              "    </tr>\n",
              "  </tbody>\n",
              "</table>\n",
              "</div>"
            ],
            "text/plain": [
              "              Emp.var.rate  euribor3m  nr.employed\n",
              "Emp.var.rate         False       True         True\n",
              "euribor3m             True      False         True\n",
              "nr.employed           True       True        False"
            ]
          },
          "metadata": {
            "tags": []
          },
          "execution_count": 182
        }
      ]
    },
    {
      "cell_type": "markdown",
      "metadata": {
        "id": "z3I5i8zjWbCC"
      },
      "source": [
        "**We found the variables Emp.var.rate, euribor3m, nr.employed as highly correlated**"
      ]
    },
    {
      "cell_type": "markdown",
      "metadata": {
        "id": "z2cPl481-z7R"
      },
      "source": [
        "#**04 ML Model :  MLlib Logistic Regression**<br>\n"
      ]
    },
    {
      "cell_type": "code",
      "metadata": {
        "id": "Ny27vjHC_Bs2",
        "colab": {
          "base_uri": "https://localhost:8080/"
        },
        "outputId": "e1a21e32-c323-4fd6-d7cd-f42335758a17"
      },
      "source": [
        "data_file = \"Bank_train.csv\"\n",
        "raw_data = sc.textFile(data_file)\n",
        "\n",
        "print (\"Train data size is \", raw_data.count())"
      ],
      "execution_count": null,
      "outputs": [
        {
          "output_type": "stream",
          "text": [
            "Train data size is  41188\n"
          ],
          "name": "stdout"
        }
      ]
    },
    {
      "cell_type": "code",
      "metadata": {
        "id": "c18yzEsQ_W9E",
        "colab": {
          "base_uri": "https://localhost:8080/"
        },
        "outputId": "33c84361-bbd6-4dd7-83c6-0f041c9e2a68"
      },
      "source": [
        "test_data_file = \"Bank_test.csv\"\n",
        "test_raw_data = sc.textFile(test_data_file)\n",
        "\n",
        "print (\"Test data size is \", test_raw_data.count())"
      ],
      "execution_count": null,
      "outputs": [
        {
          "output_type": "stream",
          "text": [
            "Test data size is  4119\n"
          ],
          "name": "stdout"
        }
      ]
    },
    {
      "cell_type": "markdown",
      "metadata": {
        "id": "BLDHpWf2Xn9V"
      },
      "source": [
        "###**Creating Labelled Points**"
      ]
    },
    {
      "cell_type": "code",
      "metadata": {
        "id": "VqimLDWy_riI"
      },
      "source": [
        "#what is LabeledPoint\n",
        "# http://spark.apache.org/docs/2.2.0/mllib-data-types.html\n",
        "#\n",
        "from pyspark.mllib.regression import LabeledPoint\n",
        "from numpy import array\n",
        "\n",
        "def parse_interaction(line):\n",
        "    line_split = line.split(\",\")\n",
        "    # leave_out = nr.employed [9,10,11,12,13,14,15,16,17,18,19,20]\n",
        "    clean_line_split = line_split[0:9]\n",
        "    attack = 1.0\n",
        "    if line_split[19]=='no':\n",
        "        attack = 0.0\n",
        "    return LabeledPoint(attack, array([float(x) for x in clean_line_split]))"
      ],
      "execution_count": null,
      "outputs": []
    },
    {
      "cell_type": "code",
      "metadata": {
        "id": "8y-F5xFz_0Qw",
        "colab": {
          "base_uri": "https://localhost:8080/"
        },
        "outputId": "9052c400-0a3b-434e-c34b-2e5fa475f264"
      },
      "source": [
        "training_data = raw_data.map(parse_interaction)\n",
        "training_data.take(5)"
      ],
      "execution_count": null,
      "outputs": [
        {
          "output_type": "execute_result",
          "data": {
            "text/plain": [
              "[LabeledPoint(0.0, [0.48148148148148145,0.05307035380235868,0.0,0.0,0.9375,0.6987529228370946,0.6025104602510458,0.9573792790750397,0.8598484848484844]),\n",
              " LabeledPoint(0.0, [0.4938271604938272,0.03029686864579097,0.0,0.0,0.9375,0.6987529228370946,0.6025104602510458,0.9573792790750397,0.8598484848484844]),\n",
              " LabeledPoint(0.0, [0.24691358024691357,0.045953639690931275,0.0,0.0,0.9375,0.6987529228370946,0.6025104602510458,0.9573792790750397,0.8598484848484844]),\n",
              " LabeledPoint(0.0, [0.2839506172839506,0.030703538023586822,0.0,0.0,0.9375,0.6987529228370946,0.6025104602510458,0.9573792790750397,0.8598484848484844]),\n",
              " LabeledPoint(0.0, [0.48148148148148145,0.06242374949166328,0.0,0.0,0.9375,0.6987529228370946,0.6025104602510458,0.9573792790750397,0.8598484848484844])]"
            ]
          },
          "metadata": {
            "tags": []
          },
          "execution_count": 186
        }
      ]
    },
    {
      "cell_type": "code",
      "metadata": {
        "id": "-hGd2VUP_8VF",
        "colab": {
          "base_uri": "https://localhost:8080/"
        },
        "outputId": "5479b844-e7f5-4dac-be93-02ca8997b2b2"
      },
      "source": [
        "test_data = test_raw_data.map(parse_interaction)\n",
        "test_data.take(5)"
      ],
      "execution_count": null,
      "outputs": [
        {
          "output_type": "execute_result",
          "data": {
            "text/plain": [
              "[LabeledPoint(0.0, [0.16049382716049382,0.09902399349328996,0.01818181818181818,0.0,0.33333333333333337,0.269680436476996,0.19246861924686165,0.1539333484470642,0.5117424242424242]),\n",
              " LabeledPoint(0.0, [0.2716049382716049,0.0703538023586824,0.05454545454545454,0.0,0.9375,0.6987529228370946,0.6025104602510458,0.9569258671503063,0.8598484848484844]),\n",
              " LabeledPoint(0.0, [0.09876543209876543,0.0461569743798292,0.0,0.0,1.0,0.8823070927513612,0.37656903765690375,0.9811834051235548,1.0003787878787875]),\n",
              " LabeledPoint(0.0, [0.25925925925925924,0.0034566897112647418,0.03636363636363636,0.0,1.0,0.8823070927513612,0.37656903765690375,0.9805032872364543,1.0003787878787875]),\n",
              " LabeledPoint(0.0, [0.3703703703703703,0.011793411956079707,0.0,0.0,0.6875,0.3893219017926697,0.36820083682008353,0.8063931081387441,0.8780303030303038])]"
            ]
          },
          "metadata": {
            "tags": []
          },
          "execution_count": 187
        }
      ]
    },
    {
      "cell_type": "code",
      "metadata": {
        "id": "gvcMdFdFADgy",
        "colab": {
          "base_uri": "https://localhost:8080/"
        },
        "outputId": "044ff699-d795-43f2-d180-d3011a70dd2d"
      },
      "source": [
        "from pyspark.mllib.classification import LogisticRegressionWithLBFGS\n",
        "from time import time\n",
        "\n",
        "# Build the model\n",
        "t0 = time()\n",
        "logit_model = LogisticRegressionWithLBFGS.train(training_data)\n",
        "#logit_model = LogisticRegressionWithLBFGS.train(raw_data)\n",
        "tt = time() - t0\n",
        "\n",
        "print (\"Classifier trained in \",round(tt,3), \" seconds\")"
      ],
      "execution_count": null,
      "outputs": [
        {
          "output_type": "stream",
          "text": [
            "Classifier trained in  5.658  seconds\n"
          ],
          "name": "stdout"
        }
      ]
    },
    {
      "cell_type": "code",
      "metadata": {
        "id": "YBbHAwZRA-kj"
      },
      "source": [
        "labels_and_preds = test_data.map(lambda p: (p.label, logit_model.predict(p.features)))"
      ],
      "execution_count": null,
      "outputs": []
    },
    {
      "cell_type": "code",
      "metadata": {
        "colab": {
          "base_uri": "https://localhost:8080/"
        },
        "id": "-GgCNiYhkBNQ",
        "outputId": "53e3e966-2ad2-46ea-e3d3-87b172549316"
      },
      "source": [
        "labels_and_preds.take(10)"
      ],
      "execution_count": null,
      "outputs": [
        {
          "output_type": "execute_result",
          "data": {
            "text/plain": [
              "[(0.0, 0),\n",
              " (0.0, 0),\n",
              " (0.0, 0),\n",
              " (0.0, 0),\n",
              " (0.0, 0),\n",
              " (0.0, 0),\n",
              " (0.0, 0),\n",
              " (0.0, 0),\n",
              " (0.0, 0),\n",
              " (0.0, 0)]"
            ]
          },
          "metadata": {
            "tags": []
          },
          "execution_count": 190
        }
      ]
    },
    {
      "cell_type": "code",
      "metadata": {
        "id": "x02-FFoNBF4s",
        "colab": {
          "base_uri": "https://localhost:8080/"
        },
        "outputId": "182f99f5-add4-4843-9b50-5123a84bfe41"
      },
      "source": [
        "t0 = time()\n",
        "test_accuracy = labels_and_preds.filter(lambda x : x[0] == x[1]).count() / float(test_data.count())\n",
        "tt = time() - t0\n",
        "\n",
        "print (\"Prediction made in \",round(tt,3),\" seconds. Test accuracy is \",round(test_accuracy,4))"
      ],
      "execution_count": null,
      "outputs": [
        {
          "output_type": "stream",
          "text": [
            "Prediction made in  0.619  seconds. Test accuracy is  0.9092\n"
          ],
          "name": "stdout"
        }
      ]
    },
    {
      "cell_type": "markdown",
      "metadata": {
        "id": "5VTIu8iRX14U"
      },
      "source": [
        "####**Test Accuracy attained is 90.92%**"
      ]
    },
    {
      "cell_type": "code",
      "metadata": {
        "id": "rtuIaX4jB7M4"
      },
      "source": [
        "def parse_interaction_corr(line):\n",
        "    line_split = line.split(\",\")\n",
        "    # leave_out = \n",
        "    clean_line_split = line_split[0:4]+line_split[4:7]\n",
        "    attack = 1.0\n",
        "    if line_split[19]=='no':\n",
        "        attack = 0.0\n",
        "    return LabeledPoint(attack, array([float(x) for x in clean_line_split]))\n",
        "\n"
      ],
      "execution_count": null,
      "outputs": []
    },
    {
      "cell_type": "markdown",
      "metadata": {
        "id": "U4bbzcTHYNze"
      },
      "source": [
        "###**Correlated variables are removed and evaluated the new accuracy**"
      ]
    },
    {
      "cell_type": "code",
      "metadata": {
        "id": "E0GToGULm035"
      },
      "source": [
        "corr_reduced_training_data = raw_data.map(parse_interaction_corr)\n",
        "corr_reduced_test_data = test_raw_data.map(parse_interaction_corr)"
      ],
      "execution_count": null,
      "outputs": []
    },
    {
      "cell_type": "code",
      "metadata": {
        "id": "2c3-zl0VMLTr",
        "colab": {
          "base_uri": "https://localhost:8080/"
        },
        "outputId": "daa76e83-a577-4ef9-da6e-4c5e67649b28"
      },
      "source": [
        "# Build the model\n",
        "t0 = time()\n",
        "logit_model_2 = LogisticRegressionWithLBFGS.train(corr_reduced_training_data)\n",
        "tt = time() - t0\n",
        "\n",
        "print (\"Classifier trained in \",round(tt,3),\" seconds\")"
      ],
      "execution_count": null,
      "outputs": [
        {
          "output_type": "stream",
          "text": [
            "Classifier trained in  3.564  seconds\n"
          ],
          "name": "stdout"
        }
      ]
    },
    {
      "cell_type": "code",
      "metadata": {
        "id": "KK5-VUMzM6_C",
        "colab": {
          "base_uri": "https://localhost:8080/"
        },
        "outputId": "2406c9fa-7a45-42e0-cf87-2f8c0f75ebc9"
      },
      "source": [
        "t0 = time()\n",
        "labels_and_preds = corr_reduced_test_data.map(lambda p: (p.label, logit_model_2.predict(p.features)))\n",
        "tt = time() - t0\n",
        "test_accuracy = labels_and_preds.filter(lambda x: x[0] == x[1]).count() / float(corr_reduced_test_data.count())\n",
        "\n",
        "\n",
        "print (\"Prediction made in \",round(tt,3),\"seconds. Test accuracy is \",round(test_accuracy,4))"
      ],
      "execution_count": null,
      "outputs": [
        {
          "output_type": "stream",
          "text": [
            "Prediction made in  0.0 seconds. Test accuracy is  0.8975\n"
          ],
          "name": "stdout"
        }
      ]
    },
    {
      "cell_type": "markdown",
      "metadata": {
        "id": "0hUSJarLYjSv"
      },
      "source": [
        "####**The new Accuracy attained is 89.975%**\n",
        "Here, we have reduced accuracy and also training time.  We have lost quite a lot of accuracy and have not gained a lot of execution time during training. Also prediction time didn't improve. So it is not a good step to remove correlated variables"
      ]
    },
    {
      "cell_type": "code",
      "metadata": {
        "id": "knO2QX3PPjJS"
      },
      "source": [
        "feature_names = [\"Age\",\"Duration\",\"Campaign\",\"Previous\",\"Emp.var.rate\",\n",
        "             \"cons.price.idx\",\"cons.conf.idx\",\"euribor3m\",\"nr.employed\"]"
      ],
      "execution_count": null,
      "outputs": []
    },
    {
      "cell_type": "markdown",
      "metadata": {
        "id": "5NDV1mySZfR9"
      },
      "source": [
        "###**Using hypothesis testing**\n",
        "\n",
        "Performing Persons's chi-squared (χ2) test\n"
      ]
    },
    {
      "cell_type": "code",
      "metadata": {
        "id": "26CV8j4QPn05"
      },
      "source": [
        "def parse_interaction_categorical(line):\n",
        "    line_split = line.split(\",\")\n",
        "    clean_line_split = line_split[0:9]\n",
        "    attack = 1.0\n",
        "    if line_split[19]=='no':\n",
        "        attack = 0.0\n",
        "    return LabeledPoint(attack, array([float(x) for x in clean_line_split]))"
      ],
      "execution_count": null,
      "outputs": []
    },
    {
      "cell_type": "code",
      "metadata": {
        "id": "qSd_X72ZPqOW"
      },
      "source": [
        "training_data_categorical = raw_data.map(parse_interaction_categorical)"
      ],
      "execution_count": null,
      "outputs": []
    },
    {
      "cell_type": "code",
      "metadata": {
        "id": "owSEO2v_Pvyc",
        "colab": {
          "base_uri": "https://localhost:8080/"
        },
        "outputId": "2b79d0cc-4615-451c-ea8e-22a15426c947"
      },
      "source": [
        "training_data_categorical.take(3)"
      ],
      "execution_count": null,
      "outputs": [
        {
          "output_type": "execute_result",
          "data": {
            "text/plain": [
              "[LabeledPoint(0.0, [0.48148148148148145,0.05307035380235868,0.0,0.0,0.9375,0.6987529228370946,0.6025104602510458,0.9573792790750397,0.8598484848484844]),\n",
              " LabeledPoint(0.0, [0.4938271604938272,0.03029686864579097,0.0,0.0,0.9375,0.6987529228370946,0.6025104602510458,0.9573792790750397,0.8598484848484844]),\n",
              " LabeledPoint(0.0, [0.24691358024691357,0.045953639690931275,0.0,0.0,0.9375,0.6987529228370946,0.6025104602510458,0.9573792790750397,0.8598484848484844])]"
            ]
          },
          "metadata": {
            "tags": []
          },
          "execution_count": 199
        }
      ]
    },
    {
      "cell_type": "code",
      "metadata": {
        "id": "i9bHqbhVP8HT"
      },
      "source": [
        "from pyspark.mllib.stat import Statistics\n",
        "\n",
        "chi = Statistics.chiSqTest(training_data_categorical)"
      ],
      "execution_count": null,
      "outputs": []
    },
    {
      "cell_type": "code",
      "metadata": {
        "id": "S5b1k0g5QLUa",
        "colab": {
          "base_uri": "https://localhost:8080/",
          "height": 327
        },
        "outputId": "6e93b6a8-e613-4396-85ec-1ed273f8677d"
      },
      "source": [
        "import pandas as pd\n",
        "pd.set_option('display.max_colwidth', 30)\n",
        "\n",
        "records = [(result.statistic, result.pValue) for result in chi]\n",
        "\n",
        "chi_df = pd.DataFrame(data=records, index= feature_names, columns=[\"Statistic\",\"p-value\"])\n",
        "\n",
        "chi_df"
      ],
      "execution_count": null,
      "outputs": [
        {
          "output_type": "execute_result",
          "data": {
            "text/html": [
              "<div>\n",
              "<style scoped>\n",
              "    .dataframe tbody tr th:only-of-type {\n",
              "        vertical-align: middle;\n",
              "    }\n",
              "\n",
              "    .dataframe tbody tr th {\n",
              "        vertical-align: top;\n",
              "    }\n",
              "\n",
              "    .dataframe thead th {\n",
              "        text-align: right;\n",
              "    }\n",
              "</style>\n",
              "<table border=\"1\" class=\"dataframe\">\n",
              "  <thead>\n",
              "    <tr style=\"text-align: right;\">\n",
              "      <th></th>\n",
              "      <th>Statistic</th>\n",
              "      <th>p-value</th>\n",
              "    </tr>\n",
              "  </thead>\n",
              "  <tbody>\n",
              "    <tr>\n",
              "      <th>Age</th>\n",
              "      <td>1657.478261</td>\n",
              "      <td>0.0</td>\n",
              "    </tr>\n",
              "    <tr>\n",
              "      <th>Duration</th>\n",
              "      <td>10460.048065</td>\n",
              "      <td>0.0</td>\n",
              "    </tr>\n",
              "    <tr>\n",
              "      <th>Campaign</th>\n",
              "      <td>218.863377</td>\n",
              "      <td>0.0</td>\n",
              "    </tr>\n",
              "    <tr>\n",
              "      <th>Previous</th>\n",
              "      <td>2299.436360</td>\n",
              "      <td>0.0</td>\n",
              "    </tr>\n",
              "    <tr>\n",
              "      <th>Emp.var.rate</th>\n",
              "      <td>5806.707270</td>\n",
              "      <td>0.0</td>\n",
              "    </tr>\n",
              "    <tr>\n",
              "      <th>cons.price.idx</th>\n",
              "      <td>7665.734777</td>\n",
              "      <td>0.0</td>\n",
              "    </tr>\n",
              "    <tr>\n",
              "      <th>cons.conf.idx</th>\n",
              "      <td>7665.734777</td>\n",
              "      <td>0.0</td>\n",
              "    </tr>\n",
              "    <tr>\n",
              "      <th>euribor3m</th>\n",
              "      <td>9026.396751</td>\n",
              "      <td>0.0</td>\n",
              "    </tr>\n",
              "    <tr>\n",
              "      <th>nr.employed</th>\n",
              "      <td>6975.057757</td>\n",
              "      <td>0.0</td>\n",
              "    </tr>\n",
              "  </tbody>\n",
              "</table>\n",
              "</div>"
            ],
            "text/plain": [
              "                   Statistic  p-value\n",
              "Age              1657.478261      0.0\n",
              "Duration        10460.048065      0.0\n",
              "Campaign          218.863377      0.0\n",
              "Previous         2299.436360      0.0\n",
              "Emp.var.rate     5806.707270      0.0\n",
              "cons.price.idx   7665.734777      0.0\n",
              "cons.conf.idx    7665.734777      0.0\n",
              "euribor3m        9026.396751      0.0\n",
              "nr.employed      6975.057757      0.0"
            ]
          },
          "metadata": {
            "tags": []
          },
          "execution_count": 201
        }
      ]
    },
    {
      "cell_type": "markdown",
      "metadata": {
        "id": "EsTf63kzaC-8"
      },
      "source": [
        "#####**Chi square test**\n",
        "From the dataframe obtained after Chi square test, it is clear that all the variables are signficant and none of them should be removed"
      ]
    },
    {
      "cell_type": "code",
      "metadata": {
        "id": "KQFBe8OxQXaS"
      },
      "source": [
        "def parse_interaction_chi(line):\n",
        "    line_split = line.split(\",\")\n",
        "    # leave_out = [1,2,3,6,19,41]\n",
        "    clean_line_split = line_split[0:9] \n",
        "    attack = 1.0\n",
        "    if line_split[19]=='no':\n",
        "        attack = 0.0\n",
        "    return LabeledPoint(attack, array([float(x) for x in clean_line_split]))\n",
        "\n",
        "\n"
      ],
      "execution_count": null,
      "outputs": []
    },
    {
      "cell_type": "code",
      "metadata": {
        "id": "Y69B_XZ0Q-ES"
      },
      "source": [
        "training_data_chi = raw_data.map(parse_interaction_chi)\n",
        "test_data_chi = test_raw_data.map(parse_interaction_chi)"
      ],
      "execution_count": null,
      "outputs": []
    },
    {
      "cell_type": "code",
      "metadata": {
        "id": "bpopnd2sRJz6",
        "colab": {
          "base_uri": "https://localhost:8080/"
        },
        "outputId": "5a82b8bb-2525-4176-c708-072d0e44bf29"
      },
      "source": [
        "# Build the model\n",
        "t0 = time()\n",
        "logit_model_chi = LogisticRegressionWithLBFGS.train(training_data_chi)\n",
        "tt = time() - t0\n",
        "\n",
        "print (\"Classifier trained in \",round(tt,3),\" seconds\")"
      ],
      "execution_count": null,
      "outputs": [
        {
          "output_type": "stream",
          "text": [
            "Classifier trained in  4.012  seconds\n"
          ],
          "name": "stdout"
        }
      ]
    },
    {
      "cell_type": "code",
      "metadata": {
        "id": "UELIcV8wRmu0",
        "colab": {
          "base_uri": "https://localhost:8080/"
        },
        "outputId": "65bfbe02-4884-47fd-8dcc-e059080afb27"
      },
      "source": [
        "t0 = time()\n",
        "labels_and_preds = test_data_chi.map(lambda p: (p.label, logit_model_chi.predict(p.features)))\n",
        "tt = time() - t0\n",
        "test_accuracy = labels_and_preds.filter(lambda x: x[0] == x[1]).count() / float(test_data_chi.count())\n",
        "\n",
        "print (\"Prediction made in \",round(tt,3),\" seconds. Test accuracy is \", round(test_accuracy,4))"
      ],
      "execution_count": null,
      "outputs": [
        {
          "output_type": "stream",
          "text": [
            "Prediction made in  0.0  seconds. Test accuracy is  0.9092\n"
          ],
          "name": "stdout"
        }
      ]
    },
    {
      "cell_type": "markdown",
      "metadata": {
        "id": "Jgu-eS9wbX4V"
      },
      "source": [
        "####**Hence the Test accuracy remains the same as initial that is 90.92%**"
      ]
    }
  ]
}